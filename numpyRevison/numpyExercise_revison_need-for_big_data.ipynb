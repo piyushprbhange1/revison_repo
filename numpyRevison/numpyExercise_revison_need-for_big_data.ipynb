{
 "cells": [
  {
   "cell_type": "code",
   "execution_count": 1,
   "id": "810c24c6",
   "metadata": {},
   "outputs": [],
   "source": [
    "## importing numpys and pandas\n",
    "import numpy as np \n",
    "import pandas as pd \n"
   ]
  },
  {
   "cell_type": "code",
   "execution_count": 2,
   "id": "d3e84a6c",
   "metadata": {},
   "outputs": [
    {
     "data": {
      "text/plain": [
       "['ALLOW_THREADS',\n",
       " 'AxisError',\n",
       " 'BUFSIZE',\n",
       " 'Bytes0',\n",
       " 'CLIP',\n",
       " 'ComplexWarning',\n",
       " 'DataSource',\n",
       " 'Datetime64',\n",
       " 'ERR_CALL',\n",
       " 'ERR_DEFAULT',\n",
       " 'ERR_IGNORE',\n",
       " 'ERR_LOG',\n",
       " 'ERR_PRINT',\n",
       " 'ERR_RAISE',\n",
       " 'ERR_WARN',\n",
       " 'FLOATING_POINT_SUPPORT',\n",
       " 'FPE_DIVIDEBYZERO',\n",
       " 'FPE_INVALID',\n",
       " 'FPE_OVERFLOW',\n",
       " 'FPE_UNDERFLOW',\n",
       " 'False_',\n",
       " 'Inf',\n",
       " 'Infinity',\n",
       " 'MAXDIMS',\n",
       " 'MAY_SHARE_BOUNDS',\n",
       " 'MAY_SHARE_EXACT',\n",
       " 'MachAr',\n",
       " 'ModuleDeprecationWarning',\n",
       " 'NAN',\n",
       " 'NINF',\n",
       " 'NZERO',\n",
       " 'NaN',\n",
       " 'PINF',\n",
       " 'PZERO',\n",
       " 'RAISE',\n",
       " 'RankWarning',\n",
       " 'SHIFT_DIVIDEBYZERO',\n",
       " 'SHIFT_INVALID',\n",
       " 'SHIFT_OVERFLOW',\n",
       " 'SHIFT_UNDERFLOW',\n",
       " 'ScalarType',\n",
       " 'Str0',\n",
       " 'Tester',\n",
       " 'TooHardError',\n",
       " 'True_',\n",
       " 'UFUNC_BUFSIZE_DEFAULT',\n",
       " 'UFUNC_PYVALS_NAME',\n",
       " 'Uint64',\n",
       " 'VisibleDeprecationWarning',\n",
       " 'WRAP',\n",
       " '_NoValue',\n",
       " '_UFUNC_API',\n",
       " '__NUMPY_SETUP__',\n",
       " '__all__',\n",
       " '__builtins__',\n",
       " '__cached__',\n",
       " '__config__',\n",
       " '__deprecated_attrs__',\n",
       " '__dir__',\n",
       " '__doc__',\n",
       " '__expired_functions__',\n",
       " '__file__',\n",
       " '__getattr__',\n",
       " '__git_revision__',\n",
       " '__loader__',\n",
       " '__mkl_version__',\n",
       " '__name__',\n",
       " '__package__',\n",
       " '__path__',\n",
       " '__spec__',\n",
       " '__version__',\n",
       " '_add_newdoc_ufunc',\n",
       " '_distributor_init',\n",
       " '_financial_names',\n",
       " '_globals',\n",
       " '_mat',\n",
       " '_pytesttester',\n",
       " 'abs',\n",
       " 'absolute',\n",
       " 'add',\n",
       " 'add_docstring',\n",
       " 'add_newdoc',\n",
       " 'add_newdoc_ufunc',\n",
       " 'alen',\n",
       " 'all',\n",
       " 'allclose',\n",
       " 'alltrue',\n",
       " 'amax',\n",
       " 'amin',\n",
       " 'angle',\n",
       " 'any',\n",
       " 'append',\n",
       " 'apply_along_axis',\n",
       " 'apply_over_axes',\n",
       " 'arange',\n",
       " 'arccos',\n",
       " 'arccosh',\n",
       " 'arcsin',\n",
       " 'arcsinh',\n",
       " 'arctan',\n",
       " 'arctan2',\n",
       " 'arctanh',\n",
       " 'argmax',\n",
       " 'argmin',\n",
       " 'argpartition',\n",
       " 'argsort',\n",
       " 'argwhere',\n",
       " 'around',\n",
       " 'array',\n",
       " 'array2string',\n",
       " 'array_equal',\n",
       " 'array_equiv',\n",
       " 'array_repr',\n",
       " 'array_split',\n",
       " 'array_str',\n",
       " 'asanyarray',\n",
       " 'asarray',\n",
       " 'asarray_chkfinite',\n",
       " 'ascontiguousarray',\n",
       " 'asfarray',\n",
       " 'asfortranarray',\n",
       " 'asmatrix',\n",
       " 'asscalar',\n",
       " 'atleast_1d',\n",
       " 'atleast_2d',\n",
       " 'atleast_3d',\n",
       " 'average',\n",
       " 'bartlett',\n",
       " 'base_repr',\n",
       " 'binary_repr',\n",
       " 'bincount',\n",
       " 'bitwise_and',\n",
       " 'bitwise_not',\n",
       " 'bitwise_or',\n",
       " 'bitwise_xor',\n",
       " 'blackman',\n",
       " 'block',\n",
       " 'bmat',\n",
       " 'bool8',\n",
       " 'bool_',\n",
       " 'broadcast',\n",
       " 'broadcast_arrays',\n",
       " 'broadcast_shapes',\n",
       " 'broadcast_to',\n",
       " 'busday_count',\n",
       " 'busday_offset',\n",
       " 'busdaycalendar',\n",
       " 'byte',\n",
       " 'byte_bounds',\n",
       " 'bytes0',\n",
       " 'bytes_',\n",
       " 'c_',\n",
       " 'can_cast',\n",
       " 'cast',\n",
       " 'cbrt',\n",
       " 'cdouble',\n",
       " 'ceil',\n",
       " 'cfloat',\n",
       " 'char',\n",
       " 'character',\n",
       " 'chararray',\n",
       " 'choose',\n",
       " 'clip',\n",
       " 'clongdouble',\n",
       " 'clongfloat',\n",
       " 'column_stack',\n",
       " 'common_type',\n",
       " 'compare_chararrays',\n",
       " 'compat',\n",
       " 'complex128',\n",
       " 'complex64',\n",
       " 'complex_',\n",
       " 'complexfloating',\n",
       " 'compress',\n",
       " 'concatenate',\n",
       " 'conj',\n",
       " 'conjugate',\n",
       " 'convolve',\n",
       " 'copy',\n",
       " 'copysign',\n",
       " 'copyto',\n",
       " 'core',\n",
       " 'corrcoef',\n",
       " 'correlate',\n",
       " 'cos',\n",
       " 'cosh',\n",
       " 'count_nonzero',\n",
       " 'cov',\n",
       " 'cross',\n",
       " 'csingle',\n",
       " 'ctypeslib',\n",
       " 'cumprod',\n",
       " 'cumproduct',\n",
       " 'cumsum',\n",
       " 'datetime64',\n",
       " 'datetime_as_string',\n",
       " 'datetime_data',\n",
       " 'deg2rad',\n",
       " 'degrees',\n",
       " 'delete',\n",
       " 'deprecate',\n",
       " 'deprecate_with_doc',\n",
       " 'diag',\n",
       " 'diag_indices',\n",
       " 'diag_indices_from',\n",
       " 'diagflat',\n",
       " 'diagonal',\n",
       " 'diff',\n",
       " 'digitize',\n",
       " 'disp',\n",
       " 'divide',\n",
       " 'divmod',\n",
       " 'dot',\n",
       " 'double',\n",
       " 'dsplit',\n",
       " 'dstack',\n",
       " 'dtype',\n",
       " 'e',\n",
       " 'ediff1d',\n",
       " 'einsum',\n",
       " 'einsum_path',\n",
       " 'emath',\n",
       " 'empty',\n",
       " 'empty_like',\n",
       " 'equal',\n",
       " 'errstate',\n",
       " 'euler_gamma',\n",
       " 'exp',\n",
       " 'exp2',\n",
       " 'expand_dims',\n",
       " 'expm1',\n",
       " 'extract',\n",
       " 'eye',\n",
       " 'fabs',\n",
       " 'fastCopyAndTranspose',\n",
       " 'fft',\n",
       " 'fill_diagonal',\n",
       " 'find_common_type',\n",
       " 'finfo',\n",
       " 'fix',\n",
       " 'flatiter',\n",
       " 'flatnonzero',\n",
       " 'flexible',\n",
       " 'flip',\n",
       " 'fliplr',\n",
       " 'flipud',\n",
       " 'float16',\n",
       " 'float32',\n",
       " 'float64',\n",
       " 'float_',\n",
       " 'float_power',\n",
       " 'floating',\n",
       " 'floor',\n",
       " 'floor_divide',\n",
       " 'fmax',\n",
       " 'fmin',\n",
       " 'fmod',\n",
       " 'format_float_positional',\n",
       " 'format_float_scientific',\n",
       " 'format_parser',\n",
       " 'frexp',\n",
       " 'frombuffer',\n",
       " 'fromfile',\n",
       " 'fromfunction',\n",
       " 'fromiter',\n",
       " 'frompyfunc',\n",
       " 'fromregex',\n",
       " 'fromstring',\n",
       " 'full',\n",
       " 'full_like',\n",
       " 'gcd',\n",
       " 'generic',\n",
       " 'genfromtxt',\n",
       " 'geomspace',\n",
       " 'get_array_wrap',\n",
       " 'get_include',\n",
       " 'get_printoptions',\n",
       " 'getbufsize',\n",
       " 'geterr',\n",
       " 'geterrcall',\n",
       " 'geterrobj',\n",
       " 'gradient',\n",
       " 'greater',\n",
       " 'greater_equal',\n",
       " 'half',\n",
       " 'hamming',\n",
       " 'hanning',\n",
       " 'heaviside',\n",
       " 'histogram',\n",
       " 'histogram2d',\n",
       " 'histogram_bin_edges',\n",
       " 'histogramdd',\n",
       " 'hsplit',\n",
       " 'hstack',\n",
       " 'hypot',\n",
       " 'i0',\n",
       " 'identity',\n",
       " 'iinfo',\n",
       " 'imag',\n",
       " 'in1d',\n",
       " 'index_exp',\n",
       " 'indices',\n",
       " 'inexact',\n",
       " 'inf',\n",
       " 'info',\n",
       " 'infty',\n",
       " 'inner',\n",
       " 'insert',\n",
       " 'int0',\n",
       " 'int16',\n",
       " 'int32',\n",
       " 'int64',\n",
       " 'int8',\n",
       " 'int_',\n",
       " 'intc',\n",
       " 'integer',\n",
       " 'interp',\n",
       " 'intersect1d',\n",
       " 'intp',\n",
       " 'invert',\n",
       " 'is_busday',\n",
       " 'isclose',\n",
       " 'iscomplex',\n",
       " 'iscomplexobj',\n",
       " 'isfinite',\n",
       " 'isfortran',\n",
       " 'isin',\n",
       " 'isinf',\n",
       " 'isnan',\n",
       " 'isnat',\n",
       " 'isneginf',\n",
       " 'isposinf',\n",
       " 'isreal',\n",
       " 'isrealobj',\n",
       " 'isscalar',\n",
       " 'issctype',\n",
       " 'issubclass_',\n",
       " 'issubdtype',\n",
       " 'issubsctype',\n",
       " 'iterable',\n",
       " 'ix_',\n",
       " 'kaiser',\n",
       " 'kron',\n",
       " 'lcm',\n",
       " 'ldexp',\n",
       " 'left_shift',\n",
       " 'less',\n",
       " 'less_equal',\n",
       " 'lexsort',\n",
       " 'lib',\n",
       " 'linalg',\n",
       " 'linspace',\n",
       " 'little_endian',\n",
       " 'load',\n",
       " 'loads',\n",
       " 'loadtxt',\n",
       " 'log',\n",
       " 'log10',\n",
       " 'log1p',\n",
       " 'log2',\n",
       " 'logaddexp',\n",
       " 'logaddexp2',\n",
       " 'logical_and',\n",
       " 'logical_not',\n",
       " 'logical_or',\n",
       " 'logical_xor',\n",
       " 'logspace',\n",
       " 'longcomplex',\n",
       " 'longdouble',\n",
       " 'longfloat',\n",
       " 'longlong',\n",
       " 'lookfor',\n",
       " 'ma',\n",
       " 'mafromtxt',\n",
       " 'mask_indices',\n",
       " 'mat',\n",
       " 'math',\n",
       " 'matmul',\n",
       " 'matrix',\n",
       " 'matrixlib',\n",
       " 'max',\n",
       " 'maximum',\n",
       " 'maximum_sctype',\n",
       " 'may_share_memory',\n",
       " 'mean',\n",
       " 'median',\n",
       " 'memmap',\n",
       " 'meshgrid',\n",
       " 'mgrid',\n",
       " 'min',\n",
       " 'min_scalar_type',\n",
       " 'minimum',\n",
       " 'mintypecode',\n",
       " 'mkl',\n",
       " 'mod',\n",
       " 'modf',\n",
       " 'moveaxis',\n",
       " 'msort',\n",
       " 'multiply',\n",
       " 'nan',\n",
       " 'nan_to_num',\n",
       " 'nanargmax',\n",
       " 'nanargmin',\n",
       " 'nancumprod',\n",
       " 'nancumsum',\n",
       " 'nanmax',\n",
       " 'nanmean',\n",
       " 'nanmedian',\n",
       " 'nanmin',\n",
       " 'nanpercentile',\n",
       " 'nanprod',\n",
       " 'nanquantile',\n",
       " 'nanstd',\n",
       " 'nansum',\n",
       " 'nanvar',\n",
       " 'nbytes',\n",
       " 'ndarray',\n",
       " 'ndenumerate',\n",
       " 'ndfromtxt',\n",
       " 'ndim',\n",
       " 'ndindex',\n",
       " 'nditer',\n",
       " 'negative',\n",
       " 'nested_iters',\n",
       " 'newaxis',\n",
       " 'nextafter',\n",
       " 'nonzero',\n",
       " 'not_equal',\n",
       " 'numarray',\n",
       " 'number',\n",
       " 'obj2sctype',\n",
       " 'object0',\n",
       " 'object_',\n",
       " 'ogrid',\n",
       " 'oldnumeric',\n",
       " 'ones',\n",
       " 'ones_like',\n",
       " 'os',\n",
       " 'outer',\n",
       " 'packbits',\n",
       " 'pad',\n",
       " 'partition',\n",
       " 'percentile',\n",
       " 'pi',\n",
       " 'piecewise',\n",
       " 'place',\n",
       " 'poly',\n",
       " 'poly1d',\n",
       " 'polyadd',\n",
       " 'polyder',\n",
       " 'polydiv',\n",
       " 'polyfit',\n",
       " 'polyint',\n",
       " 'polymul',\n",
       " 'polynomial',\n",
       " 'polysub',\n",
       " 'polyval',\n",
       " 'positive',\n",
       " 'power',\n",
       " 'printoptions',\n",
       " 'prod',\n",
       " 'product',\n",
       " 'promote_types',\n",
       " 'ptp',\n",
       " 'put',\n",
       " 'put_along_axis',\n",
       " 'putmask',\n",
       " 'quantile',\n",
       " 'r_',\n",
       " 'rad2deg',\n",
       " 'radians',\n",
       " 'random',\n",
       " 'ravel',\n",
       " 'ravel_multi_index',\n",
       " 'real',\n",
       " 'real_if_close',\n",
       " 'rec',\n",
       " 'recarray',\n",
       " 'recfromcsv',\n",
       " 'recfromtxt',\n",
       " 'reciprocal',\n",
       " 'record',\n",
       " 'remainder',\n",
       " 'repeat',\n",
       " 'require',\n",
       " 'reshape',\n",
       " 'resize',\n",
       " 'result_type',\n",
       " 'right_shift',\n",
       " 'rint',\n",
       " 'roll',\n",
       " 'rollaxis',\n",
       " 'roots',\n",
       " 'rot90',\n",
       " 'round',\n",
       " 'round_',\n",
       " 'row_stack',\n",
       " 's_',\n",
       " 'safe_eval',\n",
       " 'save',\n",
       " 'savetxt',\n",
       " 'savez',\n",
       " 'savez_compressed',\n",
       " 'sctype2char',\n",
       " 'sctypeDict',\n",
       " 'sctypes',\n",
       " 'searchsorted',\n",
       " 'select',\n",
       " 'set_numeric_ops',\n",
       " 'set_printoptions',\n",
       " 'set_string_function',\n",
       " 'setbufsize',\n",
       " 'setdiff1d',\n",
       " 'seterr',\n",
       " 'seterrcall',\n",
       " 'seterrobj',\n",
       " 'setxor1d',\n",
       " 'shape',\n",
       " 'shares_memory',\n",
       " 'short',\n",
       " 'show_config',\n",
       " 'sign',\n",
       " 'signbit',\n",
       " 'signedinteger',\n",
       " 'sin',\n",
       " 'sinc',\n",
       " 'single',\n",
       " 'singlecomplex',\n",
       " 'sinh',\n",
       " 'size',\n",
       " 'sometrue',\n",
       " 'sort',\n",
       " 'sort_complex',\n",
       " 'source',\n",
       " 'spacing',\n",
       " 'split',\n",
       " 'sqrt',\n",
       " 'square',\n",
       " 'squeeze',\n",
       " 'stack',\n",
       " 'std',\n",
       " 'str0',\n",
       " 'str_',\n",
       " 'string_',\n",
       " 'subtract',\n",
       " 'sum',\n",
       " 'swapaxes',\n",
       " 'sys',\n",
       " 'take',\n",
       " 'take_along_axis',\n",
       " 'tan',\n",
       " 'tanh',\n",
       " 'tensordot',\n",
       " 'test',\n",
       " 'testing',\n",
       " 'tile',\n",
       " 'timedelta64',\n",
       " 'trace',\n",
       " 'tracemalloc_domain',\n",
       " 'transpose',\n",
       " 'trapz',\n",
       " 'tri',\n",
       " 'tril',\n",
       " 'tril_indices',\n",
       " 'tril_indices_from',\n",
       " 'trim_zeros',\n",
       " 'triu',\n",
       " 'triu_indices',\n",
       " 'triu_indices_from',\n",
       " 'true_divide',\n",
       " 'trunc',\n",
       " 'typeDict',\n",
       " 'typecodes',\n",
       " 'typename',\n",
       " 'ubyte',\n",
       " 'ufunc',\n",
       " 'uint',\n",
       " 'uint0',\n",
       " 'uint16',\n",
       " 'uint32',\n",
       " 'uint64',\n",
       " 'uint8',\n",
       " 'uintc',\n",
       " 'uintp',\n",
       " 'ulonglong',\n",
       " 'unicode_',\n",
       " 'union1d',\n",
       " 'unique',\n",
       " 'unpackbits',\n",
       " 'unravel_index',\n",
       " 'unsignedinteger',\n",
       " 'unwrap',\n",
       " 'use_hugepage',\n",
       " 'ushort',\n",
       " 'vander',\n",
       " 'var',\n",
       " 'vdot',\n",
       " 'vectorize',\n",
       " 'version',\n",
       " 'void',\n",
       " 'void0',\n",
       " 'vsplit',\n",
       " 'vstack',\n",
       " 'warnings',\n",
       " 'where',\n",
       " 'who',\n",
       " 'zeros',\n",
       " 'zeros_like']"
      ]
     },
     "execution_count": 2,
     "metadata": {},
     "output_type": "execute_result"
    }
   ],
   "source": [
    "## show all nupmy methods available in numpy \n",
    "dir(np)"
   ]
  },
  {
   "cell_type": "code",
   "execution_count": 3,
   "id": "74c0a914",
   "metadata": {},
   "outputs": [
    {
     "name": "stdout",
     "output_type": "stream",
     "text": [
      "1.20.3\n"
     ]
    }
   ],
   "source": [
    "# show current numpy version \n",
    "print(np.__version__)"
   ]
  },
  {
   "cell_type": "code",
   "execution_count": 6,
   "id": "041a426c",
   "metadata": {},
   "outputs": [
    {
     "data": {
      "text/plain": [
       "array([[-514152288,        600,          0],\n",
       "       [         0,    3997793,    7340142],\n",
       "       [   6619182,    7340141,          0]])"
      ]
     },
     "execution_count": 6,
     "metadata": {},
     "output_type": "execute_result"
    }
   ],
   "source": [
    "#Q  Create a new array of 2*2 integers, without initializing entries.\n",
    "## empty will create array with random values \n",
    "a=np.empty([2,2],int)\n",
    "a\n",
    "np.empty([3,3],int)"
   ]
  },
  {
   "cell_type": "code",
   "execution_count": 7,
   "id": "49070127",
   "metadata": {},
   "outputs": [
    {
     "data": {
      "text/plain": [
       "array([[ 1416411795, -1532251131],\n",
       "       [ 1157051029,   -19952541]])"
      ]
     },
     "execution_count": 7,
     "metadata": {},
     "output_type": "execute_result"
    }
   ],
   "source": [
    "## Q given an array create array of same type a \n",
    "np.empty_like(a)\n",
    "## this will create array of 2X2 with random no "
   ]
  },
  {
   "cell_type": "code",
   "execution_count": 13,
   "id": "74289b5e",
   "metadata": {},
   "outputs": [
    {
     "data": {
      "text/plain": [
       "array([[1, 2, 3],\n",
       "       [4, 5, 6]])"
      ]
     },
     "execution_count": 13,
     "metadata": {},
     "output_type": "execute_result"
    }
   ],
   "source": [
    "# Q create an array from list \n",
    "## remember array is not df  its 2 rows 3 column matrix \n",
    "np.array([[1,2,3],[4,5,6]],int)"
   ]
  },
  {
   "cell_type": "code",
   "execution_count": 19,
   "id": "ba72201b",
   "metadata": {},
   "outputs": [
    {
     "data": {
      "text/plain": [
       "array([[0., 1., 0.],\n",
       "       [0., 0., 1.],\n",
       "       [0., 0., 0.]])"
      ]
     },
     "execution_count": 19,
     "metadata": {},
     "output_type": "execute_result"
    }
   ],
   "source": [
    "## Q create an 2 dimension 3 X 3 array with one on diagonal and zeros on other basically eigen array \n",
    "##Creates an array of 3 x 3 with the main diagonal of 1\n",
    "bEigen=np.eye(3)\n",
    "bEigen\n",
    "\n",
    "np.eye(3,k=1) ## here k is index of diagonal starting \n",
    "#help(np.eye)"
   ]
  },
  {
   "cell_type": "code",
   "execution_count": 24,
   "id": "16ca14b0",
   "metadata": {},
   "outputs": [
    {
     "data": {
      "text/plain": [
       "array([[1., 0., 0.],\n",
       "       [0., 1., 0.],\n",
       "       [0., 0., 1.]])"
      ]
     },
     "execution_count": 24,
     "metadata": {},
     "output_type": "execute_result"
    }
   ],
   "source": [
    "#syntax identity(n, dtype=None, *, like=None)\n",
    "c=np.identity(3)\n",
    "c\n",
    "#help(np.identity)"
   ]
  },
  {
   "cell_type": "code",
   "execution_count": 26,
   "id": "8b89e2ab",
   "metadata": {},
   "outputs": [
    {
     "data": {
      "text/plain": [
       "array([[1., 1.],\n",
       "       [1., 1.],\n",
       "       [1., 1.]])"
      ]
     },
     "execution_count": 26,
     "metadata": {},
     "output_type": "execute_result"
    }
   ],
   "source": [
    "## create and array with filled with no 1  of dataype float\n",
    "a=np.ones([3,2],float)\n",
    "a"
   ]
  },
  {
   "cell_type": "code",
   "execution_count": 28,
   "id": "0f7df3ca",
   "metadata": {},
   "outputs": [
    {
     "data": {
      "text/plain": [
       "array([ 4.,  6.,  8., 10., 12., 14.])"
      ]
     },
     "execution_count": 28,
     "metadata": {},
     "output_type": "execute_result"
    }
   ],
   "source": [
    "# arange([start,] stop[, step,], dtype=None, *, like=None)\n",
    "#Return evenly spaced values within a given interval Create 1 D array .\n",
    "x=np.arange(4,16,2,float)\n",
    "x\n",
    "#help(np.arange)"
   ]
  },
  {
   "cell_type": "code",
   "execution_count": 31,
   "id": "33e230f2",
   "metadata": {},
   "outputs": [],
   "source": [
    "# Q create 3X2 arrays Filled with Zeros \n",
    "b=np.zeros([3,2],int)\n",
    "b"
   ]
  },
  {
   "cell_type": "code",
   "execution_count": 32,
   "id": "773acbff",
   "metadata": {},
   "outputs": [
    {
     "data": {
      "text/plain": [
       "array([[0., 0.],\n",
       "       [0., 0.],\n",
       "       [0., 0.]])"
      ]
     },
     "execution_count": 32,
     "metadata": {},
     "output_type": "execute_result"
    }
   ],
   "source": [
    "# Q copy above structure but float data Type \n",
    "np.zeros_like(b,float)"
   ]
  },
  {
   "cell_type": "code",
   "execution_count": 35,
   "id": "66c2d7ae",
   "metadata": {},
   "outputs": [
    {
     "data": {
      "text/plain": [
       "array([[5., 5.],\n",
       "       [5., 5.],\n",
       "       [5., 5.]])"
      ]
     },
     "execution_count": 35,
     "metadata": {},
     "output_type": "execute_result"
    }
   ],
   "source": [
    "# note array take only two postional arguments \n",
    "# Q create array 3 X 2 filled with 5\n",
    "np.full([3,2],5,float)"
   ]
  },
  {
   "cell_type": "code",
   "execution_count": 36,
   "id": "dc8b90ba",
   "metadata": {},
   "outputs": [
    {
     "data": {
      "text/plain": [
       "array([ 7, 14, 21, 28, 35, 42, 49, 56, 63])"
      ]
     },
     "execution_count": 36,
     "metadata": {},
     "output_type": "execute_result"
    }
   ],
   "source": [
    "## create an array of 1 to 10 and multiply it by 7 \n",
    "np.arange(1,10)*7"
   ]
  },
  {
   "cell_type": "markdown",
   "id": "77b06375",
   "metadata": {},
   "source": [
    "# Creating array from existing Data "
   ]
  },
  {
   "cell_type": "code",
   "execution_count": null,
   "id": "673f813c",
   "metadata": {},
   "outputs": [],
   "source": [
    "# create an array of list [1,2,3]\n",
    "np.array([1,2,3])"
   ]
  },
  {
   "cell_type": "code",
   "execution_count": 43,
   "id": "6400ea22",
   "metadata": {},
   "outputs": [
    {
     "name": "stdout",
     "output_type": "stream",
     "text": [
      "type of a:<class 'list'>,type of B:<class 'numpy.ndarray'>\n"
     ]
    }
   ],
   "source": [
    "# covert list to array \n",
    "a=[1,2]\n",
    "b=np.array(a)\n",
    "print(\"type of a:{},type of B:{}\".format(type(a),type(b)))\n"
   ]
  },
  {
   "cell_type": "code",
   "execution_count": 47,
   "id": "5c09a4cf",
   "metadata": {},
   "outputs": [
    {
     "name": "stdout",
     "output_type": "stream",
     "text": [
      "2580840803280 [1 2 3] \n",
      " 2580835846160 [1 2 3]\n"
     ]
    }
   ],
   "source": [
    "## create an copy of a which has different ids \n",
    "a=np.array([1,2,3])\n",
    "y=np.copy(a)\n",
    "print(id(a),a ,\"\\n\", id(y),y)\n",
    "## note :like  create shallow copy"
   ]
  },
  {
   "cell_type": "markdown",
   "id": "f6027e4c",
   "metadata": {},
   "source": [
    "## numerical Ranges "
   ]
  },
  {
   "cell_type": "code",
   "execution_count": 48,
   "id": "95c2b4b0",
   "metadata": {},
   "outputs": [
    {
     "data": {
      "text/plain": [
       "array([ 1.,  4.,  7., 10., 13., 16., 19., 22., 25., 28., 31., 34., 37.,\n",
       "       40., 43., 46., 49., 52., 55., 58., 61., 64., 67., 70., 73., 76.,\n",
       "       79., 82., 85., 88., 91., 94., 97.])"
      ]
     },
     "execution_count": 48,
     "metadata": {},
     "output_type": "execute_result"
    }
   ],
   "source": [
    "# arange([start,] stop[, step,], dtype=None, *, like=None)\n",
    "np.arange(1,100,3,float)"
   ]
  },
  {
   "cell_type": "code",
   "execution_count": 51,
   "id": "65fafcc3",
   "metadata": {},
   "outputs": [
    {
     "name": "stdout",
     "output_type": "stream",
     "text": [
      "Help on function linspace in module numpy:\n",
      "\n",
      "linspace(start, stop, num=50, endpoint=True, retstep=False, dtype=None, axis=0)\n",
      "    Return evenly spaced numbers over a specified interval.\n",
      "    \n",
      "    Returns `num` evenly spaced samples, calculated over the\n",
      "    interval [`start`, `stop`].\n",
      "    \n",
      "    The endpoint of the interval can optionally be excluded.\n",
      "    \n",
      "    .. versionchanged:: 1.16.0\n",
      "        Non-scalar `start` and `stop` are now supported.\n",
      "    \n",
      "    .. versionchanged:: 1.20.0\n",
      "        Values are rounded towards ``-inf`` instead of ``0`` when an\n",
      "        integer ``dtype`` is specified. The old behavior can\n",
      "        still be obtained with ``np.linspace(start, stop, num).astype(int)``\n",
      "    \n",
      "    Parameters\n",
      "    ----------\n",
      "    start : array_like\n",
      "        The starting value of the sequence.\n",
      "    stop : array_like\n",
      "        The end value of the sequence, unless `endpoint` is set to False.\n",
      "        In that case, the sequence consists of all but the last of ``num + 1``\n",
      "        evenly spaced samples, so that `stop` is excluded.  Note that the step\n",
      "        size changes when `endpoint` is False.\n",
      "    num : int, optional\n",
      "        Number of samples to generate. Default is 50. Must be non-negative.\n",
      "    endpoint : bool, optional\n",
      "        If True, `stop` is the last sample. Otherwise, it is not included.\n",
      "        Default is True.\n",
      "    retstep : bool, optional\n",
      "        If True, return (`samples`, `step`), where `step` is the spacing\n",
      "        between samples.\n",
      "    dtype : dtype, optional\n",
      "        The type of the output array.  If `dtype` is not given, the data type\n",
      "        is inferred from `start` and `stop`. The inferred dtype will never be\n",
      "        an integer; `float` is chosen even if the arguments would produce an\n",
      "        array of integers.\n",
      "    \n",
      "        .. versionadded:: 1.9.0\n",
      "    \n",
      "    axis : int, optional\n",
      "        The axis in the result to store the samples.  Relevant only if start\n",
      "        or stop are array-like.  By default (0), the samples will be along a\n",
      "        new axis inserted at the beginning. Use -1 to get an axis at the end.\n",
      "    \n",
      "        .. versionadded:: 1.16.0\n",
      "    \n",
      "    Returns\n",
      "    -------\n",
      "    samples : ndarray\n",
      "        There are `num` equally spaced samples in the closed interval\n",
      "        ``[start, stop]`` or the half-open interval ``[start, stop)``\n",
      "        (depending on whether `endpoint` is True or False).\n",
      "    step : float, optional\n",
      "        Only returned if `retstep` is True\n",
      "    \n",
      "        Size of spacing between samples.\n",
      "    \n",
      "    \n",
      "    See Also\n",
      "    --------\n",
      "    arange : Similar to `linspace`, but uses a step size (instead of the\n",
      "             number of samples).\n",
      "    geomspace : Similar to `linspace`, but with numbers spaced evenly on a log\n",
      "                scale (a geometric progression).\n",
      "    logspace : Similar to `geomspace`, but with the end points specified as\n",
      "               logarithms.\n",
      "    \n",
      "    Examples\n",
      "    --------\n",
      "    >>> np.linspace(2.0, 3.0, num=5)\n",
      "    array([2.  , 2.25, 2.5 , 2.75, 3.  ])\n",
      "    >>> np.linspace(2.0, 3.0, num=5, endpoint=False)\n",
      "    array([2. ,  2.2,  2.4,  2.6,  2.8])\n",
      "    >>> np.linspace(2.0, 3.0, num=5, retstep=True)\n",
      "    (array([2.  ,  2.25,  2.5 ,  2.75,  3.  ]), 0.25)\n",
      "    \n",
      "    Graphical illustration:\n",
      "    \n",
      "    >>> import matplotlib.pyplot as plt\n",
      "    >>> N = 8\n",
      "    >>> y = np.zeros(N)\n",
      "    >>> x1 = np.linspace(0, 10, N, endpoint=True)\n",
      "    >>> x2 = np.linspace(0, 10, N, endpoint=False)\n",
      "    >>> plt.plot(x1, y, 'o')\n",
      "    [<matplotlib.lines.Line2D object at 0x...>]\n",
      "    >>> plt.plot(x2, y + 0.5, 'o')\n",
      "    [<matplotlib.lines.Line2D object at 0x...>]\n",
      "    >>> plt.ylim([-0.5, 1])\n",
      "    (-0.5, 1)\n",
      "    >>> plt.show()\n",
      "\n"
     ]
    }
   ],
   "source": [
    "#help(np.linspace)\n",
    "# linspace(start, stop, num=50, endpoint=True, retstep=False, dtype=None, axis=0)\n",
    "#     Return evenly spaced numbers over a specified interval.\n",
    "#  Returns `num` evenly spaced samples, calculated over the\n",
    "#     interval [`start`, `stop`].\n",
    "# not logspace and linspace are similar \n"
   ]
  },
  {
   "cell_type": "code",
   "execution_count": 55,
   "id": "141bffae",
   "metadata": {},
   "outputs": [
    {
     "name": "stdout",
     "output_type": "stream",
     "text": [
      "[1.  5.5]\n",
      "[ 1. 10.]\n"
     ]
    }
   ],
   "source": [
    "print(np.linspace(1,10,2,False))\n",
    "## here linspace(starrt,stop,SampleNo,notEvenlyspaces)\n",
    "print(np.linspace(1,10,2))\n",
    "# here evenly spaced sample no "
   ]
  },
  {
   "cell_type": "markdown",
   "id": "2c1a64eb",
   "metadata": {},
   "source": [
    "## building matrix "
   ]
  },
  {
   "cell_type": "code",
   "execution_count": 56,
   "id": "e99da043",
   "metadata": {},
   "outputs": [
    {
     "data": {
      "text/plain": [
       "array([ 0,  5, 10])"
      ]
     },
     "execution_count": 56,
     "metadata": {},
     "output_type": "execute_result"
    }
   ],
   "source": [
    "## Q Let X = np.array([[ 0, 1, 2, 3], [ 4, 5, 6, 7], [ 8, 9, 10, 11]]). Get the diagonal of X, that is, [0, 5, 10].\n",
    "\n",
    "X = np.array([[ 0, 1, 2, 3], [ 4, 5, 6, 7], [ 8, 9, 10, 11]])\n",
    "X.diagonal()"
   ]
  },
  {
   "cell_type": "code",
   "execution_count": 58,
   "id": "25ecd008",
   "metadata": {},
   "outputs": [
    {
     "name": "stdout",
     "output_type": "stream",
     "text": [
      "Help on function diagflat in module numpy:\n",
      "\n",
      "diagflat(v, k=0)\n",
      "    Create a two-dimensional array with the flattened input as a diagonal.\n",
      "    \n",
      "    Parameters\n",
      "    ----------\n",
      "    v : array_like\n",
      "        Input data, which is flattened and set as the `k`-th\n",
      "        diagonal of the output.\n",
      "    k : int, optional\n",
      "        Diagonal to set; 0, the default, corresponds to the \"main\" diagonal,\n",
      "        a positive (negative) `k` giving the number of the diagonal above\n",
      "        (below) the main.\n",
      "    \n",
      "    Returns\n",
      "    -------\n",
      "    out : ndarray\n",
      "        The 2-D output array.\n",
      "    \n",
      "    See Also\n",
      "    --------\n",
      "    diag : MATLAB work-alike for 1-D and 2-D arrays.\n",
      "    diagonal : Return specified diagonals.\n",
      "    trace : Sum along diagonals.\n",
      "    \n",
      "    Examples\n",
      "    --------\n",
      "    >>> np.diagflat([[1,2], [3,4]])\n",
      "    array([[1, 0, 0, 0],\n",
      "           [0, 2, 0, 0],\n",
      "           [0, 0, 3, 0],\n",
      "           [0, 0, 0, 4]])\n",
      "    \n",
      "    >>> np.diagflat([1,2], 1)\n",
      "    array([[0, 1, 0],\n",
      "           [0, 0, 2],\n",
      "           [0, 0, 0]])\n",
      "\n"
     ]
    }
   ],
   "source": [
    "##Q Create a 2-D array whose diagonal equals [1, 2, 3, 4] and 0's elsewhere.\n",
    "np.diagflat([1,2,3,4])\n",
    "# diagflat(v, k=0)\n",
    "#     Create a two-dimensional array with the flattened input as a diagonal.\n",
    "# help(np.diagflat)"
   ]
  },
  {
   "cell_type": "code",
   "execution_count": 62,
   "id": "624992de",
   "metadata": {},
   "outputs": [
    {
     "data": {
      "text/plain": [
       "array([[0., 0., 0., 0., 0.],\n",
       "       [1., 0., 0., 0., 0.],\n",
       "       [1., 1., 0., 0., 0.]])"
      ]
     },
     "execution_count": 62,
     "metadata": {},
     "output_type": "execute_result"
    }
   ],
   "source": [
    "#Q Create an array which looks like below. array([[ 0., 0., 0., 0., 0.], [ 1., 0., 0., 0., 0.], [ 1., 1., 0., 0., 0.]])\n",
    "# help(np.tri)\n",
    "# \n",
    "# tri(N, M=None, k=0, dtype=<class 'float'>, *, like=None)\n",
    "#     An array with ones at and below the given diagonal and zeros elsewhere.N = NO OF ROWS IN array\n",
    "\n",
    "np.tri(3,5,-1)\n"
   ]
  },
  {
   "cell_type": "code",
   "execution_count": 63,
   "id": "34c4eef6",
   "metadata": {},
   "outputs": [
    {
     "name": "stdout",
     "output_type": "stream",
     "text": [
      "Help on function reshape in module numpy:\n",
      "\n",
      "reshape(a, newshape, order='C')\n",
      "    Gives a new shape to an array without changing its data.\n",
      "    \n",
      "    Parameters\n",
      "    ----------\n",
      "    a : array_like\n",
      "        Array to be reshaped.\n",
      "    newshape : int or tuple of ints\n",
      "        The new shape should be compatible with the original shape. If\n",
      "        an integer, then the result will be a 1-D array of that length.\n",
      "        One shape dimension can be -1. In this case, the value is\n",
      "        inferred from the length of the array and remaining dimensions.\n",
      "    order : {'C', 'F', 'A'}, optional\n",
      "        Read the elements of `a` using this index order, and place the\n",
      "        elements into the reshaped array using this index order.  'C'\n",
      "        means to read / write the elements using C-like index order,\n",
      "        with the last axis index changing fastest, back to the first\n",
      "        axis index changing slowest. 'F' means to read / write the\n",
      "        elements using Fortran-like index order, with the first index\n",
      "        changing fastest, and the last index changing slowest. Note that\n",
      "        the 'C' and 'F' options take no account of the memory layout of\n",
      "        the underlying array, and only refer to the order of indexing.\n",
      "        'A' means to read / write the elements in Fortran-like index\n",
      "        order if `a` is Fortran *contiguous* in memory, C-like order\n",
      "        otherwise.\n",
      "    \n",
      "    Returns\n",
      "    -------\n",
      "    reshaped_array : ndarray\n",
      "        This will be a new view object if possible; otherwise, it will\n",
      "        be a copy.  Note there is no guarantee of the *memory layout* (C- or\n",
      "        Fortran- contiguous) of the returned array.\n",
      "    \n",
      "    See Also\n",
      "    --------\n",
      "    ndarray.reshape : Equivalent method.\n",
      "    \n",
      "    Notes\n",
      "    -----\n",
      "    It is not always possible to change the shape of an array without\n",
      "    copying the data. If you want an error to be raised when the data is copied,\n",
      "    you should assign the new shape to the shape attribute of the array::\n",
      "    \n",
      "     >>> a = np.zeros((10, 2))\n",
      "    \n",
      "     # A transpose makes the array non-contiguous\n",
      "     >>> b = a.T\n",
      "    \n",
      "     # Taking a view makes it possible to modify the shape without modifying\n",
      "     # the initial object.\n",
      "     >>> c = b.view()\n",
      "     >>> c.shape = (20)\n",
      "     Traceback (most recent call last):\n",
      "        ...\n",
      "     AttributeError: Incompatible shape for in-place modification. Use\n",
      "     `.reshape()` to make a copy with the desired shape.\n",
      "    \n",
      "    The `order` keyword gives the index ordering both for *fetching* the values\n",
      "    from `a`, and then *placing* the values into the output array.\n",
      "    For example, let's say you have an array:\n",
      "    \n",
      "    >>> a = np.arange(6).reshape((3, 2))\n",
      "    >>> a\n",
      "    array([[0, 1],\n",
      "           [2, 3],\n",
      "           [4, 5]])\n",
      "    \n",
      "    You can think of reshaping as first raveling the array (using the given\n",
      "    index order), then inserting the elements from the raveled array into the\n",
      "    new array using the same kind of index ordering as was used for the\n",
      "    raveling.\n",
      "    \n",
      "    >>> np.reshape(a, (2, 3)) # C-like index ordering\n",
      "    array([[0, 1, 2],\n",
      "           [3, 4, 5]])\n",
      "    >>> np.reshape(np.ravel(a), (2, 3)) # equivalent to C ravel then C reshape\n",
      "    array([[0, 1, 2],\n",
      "           [3, 4, 5]])\n",
      "    >>> np.reshape(a, (2, 3), order='F') # Fortran-like index ordering\n",
      "    array([[0, 4, 3],\n",
      "           [2, 1, 5]])\n",
      "    >>> np.reshape(np.ravel(a, order='F'), (2, 3), order='F')\n",
      "    array([[0, 4, 3],\n",
      "           [2, 1, 5]])\n",
      "    \n",
      "    Examples\n",
      "    --------\n",
      "    >>> a = np.array([[1,2,3], [4,5,6]])\n",
      "    >>> np.reshape(a, 6)\n",
      "    array([1, 2, 3, 4, 5, 6])\n",
      "    >>> np.reshape(a, 6, order='F')\n",
      "    array([1, 4, 2, 5, 3, 6])\n",
      "    \n",
      "    >>> np.reshape(a, (3,-1))       # the unspecified value is inferred to be 2\n",
      "    array([[1, 2],\n",
      "           [3, 4],\n",
      "           [5, 6]])\n",
      "\n"
     ]
    }
   ],
   "source": [
    "# help(np.reshape)\n",
    "# reshape(a, newshape, order='C')\n",
    "#     Gives a new shape to an array without changing its data."
   ]
  },
  {
   "cell_type": "code",
   "execution_count": null,
   "id": "f2552edf",
   "metadata": {},
   "outputs": [],
   "source": [
    "# help(np.reshape)\n",
    "# reshape(a, newshape, order='C')"
   ]
  },
  {
   "cell_type": "markdown",
   "id": "ca3f9e2b",
   "metadata": {},
   "source": [
    "# array manupulation \n"
   ]
  },
  {
   "cell_type": "code",
   "execution_count": 85,
   "id": "50c3abac",
   "metadata": {},
   "outputs": [
    {
     "name": "stdout",
     "output_type": "stream",
     "text": [
      "[[1. 1. 1. 1. 1. 1. 1. 1. 1. 1. 1. 1. 1. 1. 1. 1. 1. 1. 1. 1. 1. 1. 1. 1.\n",
      "  1. 1. 1. 1. 1. 1. 1. 1. 1. 1. 1. 1. 1. 1. 1. 1. 1. 1. 1. 1. 1. 1. 1. 1.\n",
      "  1. 1. 1. 1. 1. 1. 1. 1. 1. 1. 1. 1. 1. 1. 1. 1. 1. 1. 1. 1. 1. 1. 1. 1.\n",
      "  1. 1. 1. 1. 1. 1. 1. 1. 1. 1. 1. 1. 1. 1. 1. 1. 1. 1. 1. 1. 1. 1. 1. 1.\n",
      "  1. 1. 1. 1. 1. 1. 1. 1. 1. 1. 1. 1. 1. 1. 1. 1. 1. 1. 1. 1. 1. 1. 1. 1.\n",
      "  1. 1. 1. 1. 1. 1. 1. 1. 1. 1. 1. 1. 1. 1. 1. 1. 1. 1. 1. 1. 1. 1. 1. 1.\n",
      "  1. 1. 1. 1. 1. 1.]\n",
      " [1. 1. 1. 1. 1. 1. 1. 1. 1. 1. 1. 1. 1. 1. 1. 1. 1. 1. 1. 1. 1. 1. 1. 1.\n",
      "  1. 1. 1. 1. 1. 1. 1. 1. 1. 1. 1. 1. 1. 1. 1. 1. 1. 1. 1. 1. 1. 1. 1. 1.\n",
      "  1. 1. 1. 1. 1. 1. 1. 1. 1. 1. 1. 1. 1. 1. 1. 1. 1. 1. 1. 1. 1. 1. 1. 1.\n",
      "  1. 1. 1. 1. 1. 1. 1. 1. 1. 1. 1. 1. 1. 1. 1. 1. 1. 1. 1. 1. 1. 1. 1. 1.\n",
      "  1. 1. 1. 1. 1. 1. 1. 1. 1. 1. 1. 1. 1. 1. 1. 1. 1. 1. 1. 1. 1. 1. 1. 1.\n",
      "  1. 1. 1. 1. 1. 1. 1. 1. 1. 1. 1. 1. 1. 1. 1. 1. 1. 1. 1. 1. 1. 1. 1. 1.\n",
      "  1. 1. 1. 1. 1. 1.]]\n"
     ]
    }
   ],
   "source": [
    "#Q Q1. Let x be a ndarray [10, 10, 3] with all elements set to one. Reshape x so that the size of the second dimension equals 150.\n",
    "# nd array =An array object represents a multidimensional, homogeneous array\n",
    "#  |  of fixed-size items. \n",
    "# here 10 rows , 3 columns , 10 each\n",
    "# help(np.ndarray)\n",
    "## note important  for numpy functions array, ones ,zeros etc (plane , row, coulmn ) default plane is one.\n",
    "#  plane  is represented by []\n",
    "# x=np.ones([10,10,3])\n",
    "# x.reshape(150)\n",
    "# help(np.ones)\n",
    "# x.size\n",
    "# help(np.reshape)\n",
    "# reshape(array, newshape, order='C')\n",
    "\n",
    "\n",
    "x = np.ones([10, 10, 3])\n",
    "out = np.reshape(x, [-1, 150])\n",
    "print(out)\n",
    "assert np.allclose(out, np.ones([10, 10, 3]).reshape([-1, 150]))\n",
    "\n",
    "\n",
    "\n",
    "     \n"
   ]
  },
  {
   "cell_type": "code",
   "execution_count": 90,
   "id": "7caafccf",
   "metadata": {},
   "outputs": [
    {
     "name": "stdout",
     "output_type": "stream",
     "text": [
      "[[1 2 3]\n",
      " [4 5 6]]\n",
      "[1 4 2 5 3 6]\n",
      "Help on function ravel in module numpy:\n",
      "\n",
      "ravel(a, order='C')\n",
      "    Return a contiguous flattened array.\n",
      "    \n",
      "    A 1-D array, containing the elements of the input, is returned.  A copy is\n",
      "    made only if needed.\n",
      "    \n",
      "    As of NumPy 1.10, the returned array will have the same type as the input\n",
      "    array. (for example, a masked array will be returned for a masked array\n",
      "    input)\n",
      "    \n",
      "    Parameters\n",
      "    ----------\n",
      "    a : array_like\n",
      "        Input array.  The elements in `a` are read in the order specified by\n",
      "        `order`, and packed as a 1-D array.\n",
      "    order : {'C','F', 'A', 'K'}, optional\n",
      "    \n",
      "        The elements of `a` are read using this index order. 'C' means\n",
      "        to index the elements in row-major, C-style order,\n",
      "        with the last axis index changing fastest, back to the first\n",
      "        axis index changing slowest.  'F' means to index the elements\n",
      "        in column-major, Fortran-style order, with the\n",
      "        first index changing fastest, and the last index changing\n",
      "        slowest. Note that the 'C' and 'F' options take no account of\n",
      "        the memory layout of the underlying array, and only refer to\n",
      "        the order of axis indexing.  'A' means to read the elements in\n",
      "        Fortran-like index order if `a` is Fortran *contiguous* in\n",
      "        memory, C-like order otherwise.  'K' means to read the\n",
      "        elements in the order they occur in memory, except for\n",
      "        reversing the data when strides are negative.  By default, 'C'\n",
      "        index order is used.\n",
      "    \n",
      "    Returns\n",
      "    -------\n",
      "    y : array_like\n",
      "        y is an array of the same subtype as `a`, with shape ``(a.size,)``.\n",
      "        Note that matrices are special cased for backward compatibility, if `a`\n",
      "        is a matrix, then y is a 1-D ndarray.\n",
      "    \n",
      "    See Also\n",
      "    --------\n",
      "    ndarray.flat : 1-D iterator over an array.\n",
      "    ndarray.flatten : 1-D array copy of the elements of an array\n",
      "                      in row-major order.\n",
      "    ndarray.reshape : Change the shape of an array without changing its data.\n",
      "    \n",
      "    Notes\n",
      "    -----\n",
      "    In row-major, C-style order, in two dimensions, the row index\n",
      "    varies the slowest, and the column index the quickest.  This can\n",
      "    be generalized to multiple dimensions, where row-major order\n",
      "    implies that the index along the first axis varies slowest, and\n",
      "    the index along the last quickest.  The opposite holds for\n",
      "    column-major, Fortran-style index ordering.\n",
      "    \n",
      "    When a view is desired in as many cases as possible, ``arr.reshape(-1)``\n",
      "    may be preferable.\n",
      "    \n",
      "    Examples\n",
      "    --------\n",
      "    It is equivalent to ``reshape(-1, order=order)``.\n",
      "    \n",
      "    >>> x = np.array([[1, 2, 3], [4, 5, 6]])\n",
      "    >>> np.ravel(x)\n",
      "    array([1, 2, 3, 4, 5, 6])\n",
      "    \n",
      "    >>> x.reshape(-1)\n",
      "    array([1, 2, 3, 4, 5, 6])\n",
      "    \n",
      "    >>> np.ravel(x, order='F')\n",
      "    array([1, 4, 2, 5, 3, 6])\n",
      "    \n",
      "    When ``order`` is 'A', it will preserve the array's 'C' or 'F' ordering:\n",
      "    \n",
      "    >>> np.ravel(x.T)\n",
      "    array([1, 4, 2, 5, 3, 6])\n",
      "    >>> np.ravel(x.T, order='A')\n",
      "    array([1, 2, 3, 4, 5, 6])\n",
      "    \n",
      "    When ``order`` is 'K', it will preserve orderings that are neither 'C'\n",
      "    nor 'F', but won't reverse axes:\n",
      "    \n",
      "    >>> a = np.arange(3)[::-1]; a\n",
      "    array([2, 1, 0])\n",
      "    >>> a.ravel(order='C')\n",
      "    array([2, 1, 0])\n",
      "    >>> a.ravel(order='K')\n",
      "    array([2, 1, 0])\n",
      "    \n",
      "    >>> a = np.arange(12).reshape(2,3,2).swapaxes(1,2); a\n",
      "    array([[[ 0,  2,  4],\n",
      "            [ 1,  3,  5]],\n",
      "           [[ 6,  8, 10],\n",
      "            [ 7,  9, 11]]])\n",
      "    >>> a.ravel(order='C')\n",
      "    array([ 0,  2,  4,  1,  3,  5,  6,  8, 10,  7,  9, 11])\n",
      "    >>> a.ravel(order='K')\n",
      "    array([ 0,  1,  2,  3,  4,  5,  6,  7,  8,  9, 10, 11])\n",
      "\n"
     ]
    }
   ],
   "source": [
    "# Q Q2. Let x be array [[1, 2, 3], [4, 5, 6]]. Convert it to [1 4 2 5 3 6].\n",
    "x=np.array([[1,2,3],[4,5,6]])\n",
    "print(x)\n",
    "out1 = np.ravel(x, order='F')\n",
    "out2 = x.flatten(order=\"F\")\n",
    "assert np.allclose(out1, out2)\n",
    "print (out1)\n",
    "\n",
    "# help(np.ravel)\n",
    "# # ravel(a, order='C')\n",
    "# #     Return a contiguous flattened array.orders can be C,F,A,K WHERE F ORDER IS LIKE \n",
    "# RAVEL MEANS FLATTEN \n"
   ]
  },
  {
   "cell_type": "code",
   "execution_count": 100,
   "id": "cc4d3c80",
   "metadata": {},
   "outputs": [
    {
     "name": "stdout",
     "output_type": "stream",
     "text": [
      "5 5\n"
     ]
    }
   ],
   "source": [
    "# Let x be array [[1, 2, 3], [4, 5, 6]]. Get the 5th element. ie 5 \n",
    "x=np.array([[1, 2, 3], [4, 5, 6]])\n",
    "# Flat iterator object to iterate over arrays,It allows iterating over the array as if it were a 1-D array,\n",
    "# help(x.flat)\n",
    "#  note index start from 0 \n",
    "out1 = x.flat[4]\n",
    "# out1\n",
    "out2 = np.ravel(x)[4]  # selecting 4th index \n",
    "# help(np.ravel)\n",
    "# ravel(a, order='C'): Return a contiguous/continuous  flattened array\n",
    "print(out1,out2)"
   ]
  },
  {
   "cell_type": "code",
   "execution_count": 110,
   "id": "0ccc2eef",
   "metadata": {},
   "outputs": [
    {
     "name": "stdout",
     "output_type": "stream",
     "text": [
      "[[[0. 0. 0. 0. 0.]\n",
      "  [0. 0. 0. 0. 0.]\n",
      "  [0. 0. 0. 0. 0.]\n",
      "  [0. 0. 0. 0. 0.]]\n",
      "\n",
      " [[0. 0. 0. 0. 0.]\n",
      "  [0. 0. 0. 0. 0.]\n",
      "  [0. 0. 0. 0. 0.]\n",
      "  [0. 0. 0. 0. 0.]]\n",
      "\n",
      " [[0. 0. 0. 0. 0.]\n",
      "  [0. 0. 0. 0. 0.]\n",
      "  [0. 0. 0. 0. 0.]\n",
      "  [0. 0. 0. 0. 0.]]] \n",
      " [[[0. 0. 0. 0. 0.]\n",
      "  [0. 0. 0. 0. 0.]\n",
      "  [0. 0. 0. 0. 0.]]\n",
      "\n",
      " [[0. 0. 0. 0. 0.]\n",
      "  [0. 0. 0. 0. 0.]\n",
      "  [0. 0. 0. 0. 0.]]\n",
      "\n",
      " [[0. 0. 0. 0. 0.]\n",
      "  [0. 0. 0. 0. 0.]\n",
      "  [0. 0. 0. 0. 0.]]\n",
      "\n",
      " [[0. 0. 0. 0. 0.]\n",
      "  [0. 0. 0. 0. 0.]\n",
      "  [0. 0. 0. 0. 0.]]]\n"
     ]
    },
    {
     "ename": "AssertionError",
     "evalue": "",
     "output_type": "error",
     "traceback": [
      "\u001b[1;31m---------------------------------------------------------------------------\u001b[0m",
      "\u001b[1;31mAssertionError\u001b[0m                            Traceback (most recent call last)",
      "\u001b[1;32m~\\AppData\\Local\\Temp/ipykernel_1312/2795435676.py\u001b[0m in \u001b[0;36m<module>\u001b[1;34m\u001b[0m\n\u001b[0;32m      4\u001b[0m \u001b[0mb\u001b[0m\u001b[1;33m=\u001b[0m\u001b[0mnp\u001b[0m\u001b[1;33m.\u001b[0m\u001b[0mreshape\u001b[0m\u001b[1;33m(\u001b[0m\u001b[0ma\u001b[0m\u001b[1;33m,\u001b[0m\u001b[1;33m[\u001b[0m\u001b[1;36m4\u001b[0m\u001b[1;33m,\u001b[0m\u001b[1;36m3\u001b[0m\u001b[1;33m,\u001b[0m\u001b[1;36m5\u001b[0m\u001b[1;33m]\u001b[0m\u001b[1;33m)\u001b[0m\u001b[1;33m\u001b[0m\u001b[1;33m\u001b[0m\u001b[0m\n\u001b[0;32m      5\u001b[0m \u001b[0mprint\u001b[0m\u001b[1;33m(\u001b[0m\u001b[0ma\u001b[0m\u001b[1;33m,\u001b[0m\u001b[1;34m\"\\n\"\u001b[0m\u001b[1;33m,\u001b[0m\u001b[0mb\u001b[0m\u001b[1;33m)\u001b[0m\u001b[1;33m\u001b[0m\u001b[1;33m\u001b[0m\u001b[0m\n\u001b[1;32m----> 6\u001b[1;33m \u001b[1;32massert\u001b[0m \u001b[0ma\u001b[0m\u001b[1;33m.\u001b[0m\u001b[0mshape\u001b[0m\u001b[1;33m==\u001b[0m\u001b[0mb\u001b[0m\u001b[1;33m.\u001b[0m\u001b[0mshape\u001b[0m\u001b[1;33m\u001b[0m\u001b[1;33m\u001b[0m\u001b[0m\n\u001b[0m",
      "\u001b[1;31mAssertionError\u001b[0m: "
     ]
    }
   ],
   "source": [
    "# Q4. Let x be an arbitrary 3-D array of shape (3, 4, 5). Permute the dimensions of x such that the new shape will be (4,3,5).\n",
    "a=np.zeros([3,4,5])\n",
    "# note: array only take two values ie aray(list/tuple of homogenous type , second data type )\n",
    "b=np.reshape(a,[4,3,5])\n",
    "print(a,\"\\n\",b)\n"
   ]
  },
  {
   "cell_type": "code",
   "execution_count": 114,
   "id": "8279661a",
   "metadata": {},
   "outputs": [
    {
     "name": "stdout",
     "output_type": "stream",
     "text": [
      "(4, 3, 5)\n"
     ]
    }
   ],
   "source": [
    "# Q4. Let x be an arbitrary 3-D array of shape (3, 4, 5). Permute the dimensions of x such that the new shape will be (4,3,5).\n",
    "# changing or transposing in 3-d\n",
    "a=np.zeros([3,4,5])\n",
    "# note: array only take two values ie aray(list/tuple of homogenous type , second data type \n",
    "\n",
    "\n",
    "x = np.zeros((3, 4, 5))\n",
    "out1 = np.swapaxes(x, 1, 0)\n",
    "out2 = x.transpose([1, 0, 2])\n",
    "assert out1.shape == out2.shape ,\"false\"\n",
    "print (out1.shape)\n"
   ]
  },
  {
   "cell_type": "code",
   "execution_count": 118,
   "id": "289529d2",
   "metadata": {},
   "outputs": [],
   "source": [
    "# help(np.swapaxes)\n",
    "# # swapaxes(a, axis1, axis2) :Interchange two axes of an array.\n",
    "# help(np.transpose)\n",
    "# transpose(a, axes=None): Reverse or permute the axes of an array; returns the modified array.\n",
    "    "
   ]
  },
  {
   "cell_type": "code",
   "execution_count": 122,
   "id": "cb61025c",
   "metadata": {},
   "outputs": [
    {
     "name": "stdout",
     "output_type": "stream",
     "text": [
      "(4, 3)\n"
     ]
    }
   ],
   "source": [
    "# Q5. Let x be an arbitrary 2-D array of shape (3, 4). Permute the dimensions of x such that the new shape will be (4,3).\n",
    "x=np.ones([3,4])\n",
    "out1 = np.swapaxes(x, 1, 0)\n",
    "out2 = x.transpose()\n",
    "out3 = x.T\n",
    "assert out1.shape == out2.shape == out3.shape\n",
    "print (out1.shape)\n",
    "\n",
    "# note shape will give the shape of array \n"
   ]
  },
  {
   "cell_type": "code",
   "execution_count": 125,
   "id": "cff505b2",
   "metadata": {},
   "outputs": [
    {
     "ename": "SyntaxError",
     "evalue": "invalid syntax (Temp/ipykernel_1312/4259536212.py, line 3)",
     "output_type": "error",
     "traceback": [
      "\u001b[1;36m  File \u001b[1;32m\"C:\\Users\\piyus\\AppData\\Local\\Temp/ipykernel_1312/4259536212.py\"\u001b[1;36m, line \u001b[1;32m3\u001b[0m\n\u001b[1;33m    print np.expand_dims(x, axis=1).shape\u001b[0m\n\u001b[1;37m          ^\u001b[0m\n\u001b[1;31mSyntaxError\u001b[0m\u001b[1;31m:\u001b[0m invalid syntax\n"
     ]
    }
   ],
   "source": [
    "# Q5. Let x be an arbitrary 2-D array of shape (3, 4). Insert a nex axis such that the new shape will be (3, 1, 4).\n",
    "x = np.zeros((3, 4))\n",
    "print np.expand_dims(x, axis=1).shape\n",
    "\n",
    "# note: expand_dims(a, axis)\n",
    "#     Expand the shape of an array."
   ]
  },
  {
   "cell_type": "code",
   "execution_count": null,
   "id": "298b17cf",
   "metadata": {},
   "outputs": [],
   "source": [
    "# help(np.expand_dims)\n"
   ]
  },
  {
   "cell_type": "markdown",
   "id": "37fe57df",
   "metadata": {},
   "source": [
    "# array string operations "
   ]
  },
  {
   "cell_type": "code",
   "execution_count": 128,
   "id": "371e7761",
   "metadata": {},
   "outputs": [
    {
     "name": "stdout",
     "output_type": "stream",
     "text": [
      "['Hello world' 'Say something']\n"
     ]
    }
   ],
   "source": [
    "# Q1. Concatenate x1 and x2\n",
    "x1 = np.array(['Hello', 'Say'], dtype=np.str_)\n",
    "x2 = np.array([' world', ' something'], dtype=np.str_)\n",
    "out = np.char.add(x1, x2)\n",
    "print(out)"
   ]
  },
  {
   "cell_type": "code",
   "execution_count": 133,
   "id": "c828fd24",
   "metadata": {},
   "outputs": [
    {
     "name": "stdout",
     "output_type": "stream",
     "text": [
      "['hellohellohello' 'howhowhow' 'areareare' 'youyouyou']\n"
     ]
    }
   ],
   "source": [
    "# Q2. Repeat x three time element-wise.\n",
    "x1=np.array(['hello','how','are','you'],np.str_)\n",
    "# x1\n",
    "out = np.char.multiply(x1, 3)\n",
    "print(out)"
   ]
  },
  {
   "cell_type": "code",
   "execution_count": 135,
   "id": "5916517e",
   "metadata": {},
   "outputs": [
    {
     "name": "stdout",
     "output_type": "stream",
     "text": [
      "capitalized = ['Hello' 'How' 'Are' 'You']\n",
      "lowered = ['hello' 'how' 'are' 'you']\n",
      "uppered = ['HELLO' 'HOW' 'ARE' 'YOU']\n",
      "swapcased = ['HELLO' 'HOW' 'ARE' 'YOU']\n",
      "titlecased = ['Hello' 'How' 'Are' 'You']\n"
     ]
    }
   ],
   "source": [
    "# 3-1. Capitalize the first letter of x element-wise.\n",
    "# Q3-2. Lowercase x element-wise.\n",
    "# Q3-3. Uppercase x element-wise.\n",
    "# Q3-4. Swapcase x element-wise.\n",
    "# Q3-5. Title-case x element-wise.\n",
    "capitalized = np.char.capitalize(x1)\n",
    "lowered = np.char.lower(x1)\n",
    "uppered = np.char.upper(x1)\n",
    "swapcased = np.char.swapcase(x1)\n",
    "titlecased = np.char.title(x1)\n",
    "print(\"capitalized =\", capitalized)\n",
    "print(\"lowered =\", lowered)\n",
    "print(\"uppered =\", uppered)\n",
    "print(\"swapcased =\", swapcased)\n",
    "print(\"titlecased =\", titlecased)\n",
    "\n",
    "# Note: np.char have string manupulation methos like  capitalization of first word , lowered , uppered , swapcase, titlecase "
   ]
  },
  {
   "cell_type": "code",
   "execution_count": 137,
   "id": "70c4d3e2",
   "metadata": {},
   "outputs": [
    {
     "name": "stdout",
     "output_type": "stream",
     "text": [
      "centered = ['____hello world_____' '___say something____']\n",
      "left = ['hello world_________' 'say something_______']\n",
      "right = ['_________hello world' '_______say something']\n"
     ]
    }
   ],
   "source": [
    "# Q4. Make the length of each element 20 and the string centered / left-justified / right-justified with paddings of _.\n",
    "\n",
    "\n",
    "x = np.array(['hello world', 'say something'], dtype=np.str_)\n",
    "centered = np.char.center(x, 20, fillchar='_')\n",
    "left = np.char.ljust(x, 20, fillchar='_')\n",
    "right = np.char.rjust(x, 20, fillchar='_')\n",
    "\n",
    "print(\"centered =\", centered)\n",
    "print(\"left =\", left)\n",
    "print(\"right =\", right)\n",
    "\n",
    "\n",
    "# note: np.char.center  for centralization of word \n",
    "#     np.char.ljust ie left adjust , rjust for rjust , fillchar='<charToBeFilled>'\n"
   ]
  },
  {
   "cell_type": "code",
   "execution_count": null,
   "id": "cf964a77",
   "metadata": {},
   "outputs": [],
   "source": [
    "# Q6. Insert a space between characters of x.\n",
    "\n",
    "\n",
    "x = np.array(['hello world', 'say something'], dtype=np.str_)\n",
    "out = np.char.join(\" \", x)\n",
    "print(out)\n",
    "\n",
    "\n",
    "\n",
    "     \n"
   ]
  },
  {
   "cell_type": "code",
   "execution_count": 139,
   "id": "8802952a",
   "metadata": {},
   "outputs": [
    {
     "name": "stdout",
     "output_type": "stream",
     "text": [
      "stripped = ['hello world' 'say something']\n",
      "lstripped = ['hello world   ' 'say something\\n']\n",
      "rstripped = ['   hello world' '\\tsay something']\n"
     ]
    }
   ],
   "source": [
    "# Q7-1. Remove the leading and trailing whitespaces of x element-wise.\n",
    "# Q7-2. Remove the leading whitespaces of x element-wise.\n",
    "# Q7-3. Remove the trailing whitespaces of x element-wise.\n",
    "\n",
    "x = np.array(['   hello world   ', '\\tsay something\\n'], dtype=np.str_)\n",
    "stripped = np.char.strip(x)\n",
    "lstripped = np.char.lstrip(x)\n",
    "rstripped = np.char.rstrip(x)\n",
    "print(\"stripped =\", stripped)\n",
    "print(\"lstripped =\", lstripped)\n",
    "print(\"rstripped =\", rstripped)"
   ]
  },
  {
   "cell_type": "code",
   "execution_count": 140,
   "id": "30248780",
   "metadata": {},
   "outputs": [
    {
     "name": "stdout",
     "output_type": "stream",
     "text": [
      "[list(['Hello', 'my', 'name', 'is', 'John'])]\n"
     ]
    }
   ],
   "source": [
    "# Q8. Split the element of x with spaces.\n",
    "x = np.array(['Hello my name is John'], dtype=np.str_)\n",
    "out = np.char.split(x)\n",
    "print(out)"
   ]
  },
  {
   "cell_type": "code",
   "execution_count": 142,
   "id": "99a1b595",
   "metadata": {},
   "outputs": [
    {
     "name": "stdout",
     "output_type": "stream",
     "text": [
      "[list(['Hello', 'my name is John'])]\n"
     ]
    }
   ],
   "source": [
    "# Q9. Split the element of x to multiple lines.\n",
    "x = np.array(['Hello\\nmy name is John'], dtype=np.str_)\n",
    "out = np.char.splitlines(x)\n",
    "print(out)"
   ]
  },
  {
   "cell_type": "code",
   "execution_count": 150,
   "id": "23c213d3",
   "metadata": {},
   "outputs": [
    {
     "name": "stdout",
     "output_type": "stream",
     "text": [
      "['0034']\n"
     ]
    }
   ],
   "source": [
    "# Q10. Make x a numeric string of 4 digits with zeros on its left.\n",
    "x = np.array(['34'], dtype=np.str_)\n",
    "out = np.char.zfill(x, 4)\n",
    "print(out)\n",
    "\n",
    "# note: zfill(a, width): Return the numeric string left-filled with zeros\n",
    "# help(np.char.zfill)"
   ]
  },
  {
   "cell_type": "code",
   "execution_count": 152,
   "id": "56473cb6",
   "metadata": {},
   "outputs": [
    {
     "name": "stdout",
     "output_type": "stream",
     "text": [
      "['Hello nmy name is Jim']\n"
     ]
    }
   ],
   "source": [
    "# Q11. Replace \"John\" with \"Jim\" in x.\n",
    "x = np.array(['Hello nmy name is John'], dtype=np.str_)\n",
    "out = np.char.replace(x, \"John\", \"Jim\")\n",
    "print(out)\n"
   ]
  },
  {
   "cell_type": "code",
   "execution_count": 154,
   "id": "ed19071f",
   "metadata": {
    "scrolled": true
   },
   "outputs": [
    {
     "name": "stdout",
     "output_type": "stream",
     "text": [
      "[2 0 0 0 1]\n",
      "Help on function count:\n",
      "\n",
      "count(a, sub, start=0, end=None)\n",
      "    Returns an array with the number of non-overlapping occurrences of\n",
      "    substring `sub` in the range [`start`, `end`].\n",
      "    \n",
      "    Calls `str.count` element-wise.\n",
      "    \n",
      "    Parameters\n",
      "    ----------\n",
      "    a : array_like of str or unicode\n",
      "    \n",
      "    sub : str or unicode\n",
      "       The substring to search for.\n",
      "    \n",
      "    start, end : int, optional\n",
      "       Optional arguments `start` and `end` are interpreted as slice\n",
      "       notation to specify the range in which to count.\n",
      "    \n",
      "    Returns\n",
      "    -------\n",
      "    out : ndarray\n",
      "        Output array of ints.\n",
      "    \n",
      "    See also\n",
      "    --------\n",
      "    str.count\n",
      "    \n",
      "    Examples\n",
      "    --------\n",
      "    >>> c = np.array(['aAaAaA', '  aA  ', 'abBABba'])\n",
      "    >>> c\n",
      "    array(['aAaAaA', '  aA  ', 'abBABba'], dtype='<U7')\n",
      "    >>> np.char.count(c, 'A')\n",
      "    array([3, 1, 1])\n",
      "    >>> np.char.count(c, 'aA')\n",
      "    array([3, 1, 0])\n",
      "    >>> np.char.count(c, 'A', start=1, end=4)\n",
      "    array([2, 1, 1])\n",
      "    >>> np.char.count(c, 'A', start=1, end=3)\n",
      "    array([1, 0, 0])\n",
      "\n"
     ]
    }
   ],
   "source": [
    "# Q14. Count the number of \"l\" in x, element-wise.\n",
    "\n",
    "x = np.array(['Hello', 'my', 'name', 'is', 'Lily'], dtype=np.str_)\n",
    "out = np.char.count(x, \"l\")\n",
    "print(out)\n",
    "help(np.char.count)\n",
    "\n",
    "# note:count(a, sub, start=0, end=None)\n",
    "#     Returns an array with the number of non-overlapping occurrences of\n",
    "#     substring `sub` in the range [`start`, `end`].\n",
    "#  here a means array "
   ]
  },
  {
   "cell_type": "code",
   "execution_count": 156,
   "id": "65e95a95",
   "metadata": {},
   "outputs": [
    {
     "name": "stdout",
     "output_type": "stream",
     "text": [
      "Digits only = [False False False  True False False]\n",
      "Lower cases only = [False False  True False  True  True]\n",
      "Upper cases only = [False  True False False False False]\n"
     ]
    }
   ],
   "source": [
    "\n",
    "\n",
    "# Q16-1. Check if each element of x is composed of digits only.\n",
    "# Q16-2. Check if each element of x is composed of lower case letters only.\n",
    "# Q16-3. Check if each element of x is composed of upper case letters only.\n",
    "\n",
    "x = np.array(['Hello', 'I', 'am', '20', 'years', 'old'], dtype=np.str_)\n",
    "out1 = np.char.isdigit(x)\n",
    "out2 = np.char.islower(x)\n",
    "out3 = np.char.isupper(x)\n",
    "print(\"Digits only =\", out1)\n",
    "print(\"Lower cases only =\", out2)\n",
    "print(\"Upper cases only =\", out3)\n",
    "\n"
   ]
  },
  {
   "cell_type": "markdown",
   "id": "3de26139",
   "metadata": {},
   "source": [
    "# numpy revison notes this will be sufficient for big data "
   ]
  },
  {
   "cell_type": "markdown",
   "id": "9f75b4a1",
   "metadata": {},
   "source": [
    "numpy --> scipy \n",
    "numpy for computation based out of c  ---> numpy is for homogenenous data type\n",
    "dtype ---> numpy datatype \n",
    "[] ---> represet row \n",
    "[[1,2,3][3,4,5]] === 2 rows 3 colomns as default 1 plane \n",
    "np.array(plane,row,cloumns)\n",
    "np.array ==> constructor for multidimentional array\n",
    "np.dim ---> gives dimenstions\n",
    "np.shape ---> gives shape  --> tuple of array dimentions\n",
    "np.dtype--> gives data type , datatype of numpy elements \n",
    "np.astype(T) ---> as data type \n",
    "np.copy()\n",
    "np.reshape() ===> returns the different copy with different id \n",
    "np.resize ===> returns change of shape of same array \n",
    "\n",
    "array methods ---> A.astype(t)\n",
    "                -> A.copy()\n",
    "                -> A.reshape(_\n",
    "                ->A.resize()\n",
    "                ->A.mean()\n",
    "                ->A.var()\n",
    "                \n",
    "universal funtions (functions) ---> +,-,/,*\n",
    "\n",
    "dot products and cross products \n",
    "np.dot(obj1,obj2)\n",
    "np.cross(obj1,obj2)\n"
   ]
  }
 ],
 "metadata": {
  "kernelspec": {
   "display_name": "Python 3 (ipykernel)",
   "language": "python",
   "name": "python3"
  },
  "language_info": {
   "codemirror_mode": {
    "name": "ipython",
    "version": 3
   },
   "file_extension": ".py",
   "mimetype": "text/x-python",
   "name": "python",
   "nbconvert_exporter": "python",
   "pygments_lexer": "ipython3",
   "version": "3.9.7"
  }
 },
 "nbformat": 4,
 "nbformat_minor": 5
}
