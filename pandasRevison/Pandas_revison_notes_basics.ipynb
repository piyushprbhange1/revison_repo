{
 "cells": [
  {
   "cell_type": "raw",
   "id": "6c86c97f",
   "metadata": {},
   "source": [
    "## basics \n",
    "pd.dataFrame(data,index,column)\n",
    "print(df)\n",
    "pd.dataFrame(data,index=[],column=[])\n",
    "dataFrame from dictionary ==> dictionary keys are taken as labels\n",
    "pd.Series([],index=[]) ==== for pandas series \n",
    "pd.dataFrame(df,column=[])\n",
    "pandas attributes: \n",
    "df.size() ==  integer representation of no of elements in df \n",
    "df.shape() === (row X column) \n",
    "df.axes === give the list of axes \n",
    "df.column ===  give name of columns \n",
    "df.values  ===> numpy representation of values \n",
    "df.empty  ===> pandas df is empty or not \n",
    "\n",
    "## column operations \n",
    "selecting column === df.<columnName>\n",
    "adding row to column :\n",
    "    df[\"a\"]=[\"val1\",\"val2\"...]\n",
    "\n",
    "selection of columns :\n",
    "    df.iloc[:]\n",
    "    df.loc[\"colName\"]\n",
    "    df.drop(\"<col>\",axis=1) === drop entire column \n",
    "    df.drop(2) === drop line/row 2 as default axis is 0\n",
    "    df.rename(,axis=inde/column)\n",
    "    df.rename(column:())\n",
    "    df.rename({<element>:'R1'...},axis=index)\n",
    "    \n",
    "## access dataFrame\n",
    "df.loc[startRow:endRow,:] === location based access\n",
    "df.iloc[:,:,step] ========= for index based access \n",
    "df.loc[<col1>,<col2>] ==== select multiple column \n",
    "note: both row and column ends are included in o/p\n",
    "    \n",
    "pandas : 3 type of joining \n",
    "        join  === index based by default \n",
    "        merge === join on column byu default \n",
    "        concat ==== side by side or one top on another\n",
    "    \n",
    "    pd.merge(df1,df2,how=<outer/inner/fullOuter>,leftIndex=<>,RightIndex)\n",
    "    df1.join(df2,on,how)\n",
    "    \n",
    "##  methods on whole df \n",
    "head()\n",
    "tail()\n",
    "transpose()\n",
    "copy()\n",
    "describe()\n",
    "info()\n",
    "\n",
    "\n",
    "## Pandas TIme stamp \n",
    "point in time == Timestamp\n",
    "span of time == period \n",
    "Index === timestamp ---> timestampIndex \n",
    "          Period ---> Period Index \n",
    "          frequency ---> sec s, min T , Day D , Hour H , B business day \n",
    "          \n",
    ".to_DateTime()\n",
    "to_period()\n",
    "to_timeStamp()\n",
    "pandas dataFrame --- pandas series object \n",
    "python series object ---> nupy 1-d array \n",
    "python series object is of same data type \n",
    "\n",
    "# properties of DataFrame \n",
    "has axes \n",
    "row Index = axis 0 \n",
    "column Index = axis 1\n",
    "hetrogeneous data \n",
    "date is mutable \n"
   ]
  },
  {
   "cell_type": "code",
   "execution_count": null,
   "id": "feed5ca9",
   "metadata": {},
   "outputs": [],
   "source": []
  },
  {
   "cell_type": "code",
   "execution_count": 9,
   "id": "47a7d4af",
   "metadata": {},
   "outputs": [],
   "source": [
    "## creating dataFrame from Series , List , dictionary ,, a numpy 2 D array \n",
    "import pandas as pd \n",
    "import numpy as np"
   ]
  },
  {
   "cell_type": "code",
   "execution_count": 3,
   "id": "513ea845",
   "metadata": {},
   "outputs": [
    {
     "name": "stdout",
     "output_type": "stream",
     "text": [
      "Empty DataFrame\n",
      "Columns: []\n",
      "Index: []\n"
     ]
    }
   ],
   "source": [
    "## creating empty dataFrame \n",
    "dfempty=pd.DataFrame()\n",
    "print(dfempty)"
   ]
  },
  {
   "cell_type": "code",
   "execution_count": 5,
   "id": "e2a72eb7",
   "metadata": {},
   "outputs": [
    {
     "data": {
      "text/html": [
       "<div>\n",
       "<style scoped>\n",
       "    .dataframe tbody tr th:only-of-type {\n",
       "        vertical-align: middle;\n",
       "    }\n",
       "\n",
       "    .dataframe tbody tr th {\n",
       "        vertical-align: top;\n",
       "    }\n",
       "\n",
       "    .dataframe thead th {\n",
       "        text-align: right;\n",
       "    }\n",
       "</style>\n",
       "<table border=\"1\" class=\"dataframe\">\n",
       "  <thead>\n",
       "    <tr style=\"text-align: right;\">\n",
       "      <th></th>\n",
       "      <th>a</th>\n",
       "      <th>b</th>\n",
       "      <th>c</th>\n",
       "      <th>d</th>\n",
       "    </tr>\n",
       "  </thead>\n",
       "  <tbody>\n",
       "    <tr>\n",
       "      <th>0</th>\n",
       "      <td>amit</td>\n",
       "      <td>bro</td>\n",
       "      <td>chetan</td>\n",
       "      <td>dom</td>\n",
       "    </tr>\n",
       "    <tr>\n",
       "      <th>1</th>\n",
       "      <td>akash</td>\n",
       "      <td>bran</td>\n",
       "      <td>chahal</td>\n",
       "      <td>NaN</td>\n",
       "    </tr>\n",
       "    <tr>\n",
       "      <th>2</th>\n",
       "      <td>adobe</td>\n",
       "      <td>NaN</td>\n",
       "      <td>NaN</td>\n",
       "      <td>NaN</td>\n",
       "    </tr>\n",
       "    <tr>\n",
       "      <th>3</th>\n",
       "      <td>NaN</td>\n",
       "      <td>bobtheBuilder</td>\n",
       "      <td>NaN</td>\n",
       "      <td>NaN</td>\n",
       "    </tr>\n",
       "  </tbody>\n",
       "</table>\n",
       "</div>"
      ],
      "text/plain": [
       "       a              b       c    d\n",
       "0   amit            bro  chetan  dom\n",
       "1  akash           bran  chahal  NaN\n",
       "2  adobe            NaN     NaN  NaN\n",
       "3    NaN  bobtheBuilder     NaN  NaN"
      ]
     },
     "execution_count": 5,
     "metadata": {},
     "output_type": "execute_result"
    }
   ],
   "source": [
    "#  creating datFrame from list of Dictionary \n",
    "l=[{'a':\"amit\",'b':\"bro\",'c':\"chetan\",'d':\"dom\"},\n",
    "   {'a':\"akash\",'b':\"bran\",'c':\"chahal\"},\n",
    "   {'a':\"adobe\"},\n",
    "   {'b':\"bobtheBuilder\"}]\n",
    "\n",
    "df1=pd.DataFrame(l)\n",
    "df1\n",
    "\n",
    "# keys are treated as column label , row lebels takes default value starting from zeros ,NaN"
   ]
  },
  {
   "cell_type": "code",
   "execution_count": 7,
   "id": "cc4a8ed4",
   "metadata": {},
   "outputs": [
    {
     "data": {
      "text/html": [
       "<div>\n",
       "<style scoped>\n",
       "    .dataframe tbody tr th:only-of-type {\n",
       "        vertical-align: middle;\n",
       "    }\n",
       "\n",
       "    .dataframe tbody tr th {\n",
       "        vertical-align: top;\n",
       "    }\n",
       "\n",
       "    .dataframe thead th {\n",
       "        text-align: right;\n",
       "    }\n",
       "</style>\n",
       "<table border=\"1\" class=\"dataframe\">\n",
       "  <thead>\n",
       "    <tr style=\"text-align: right;\">\n",
       "      <th></th>\n",
       "      <th>0</th>\n",
       "      <th>1</th>\n",
       "    </tr>\n",
       "  </thead>\n",
       "  <tbody>\n",
       "    <tr>\n",
       "      <th>0</th>\n",
       "      <td>1</td>\n",
       "      <td>amit</td>\n",
       "    </tr>\n",
       "    <tr>\n",
       "      <th>1</th>\n",
       "      <td>2</td>\n",
       "      <td>piyush</td>\n",
       "    </tr>\n",
       "    <tr>\n",
       "      <th>2</th>\n",
       "      <td>3</td>\n",
       "      <td>shubham</td>\n",
       "    </tr>\n",
       "    <tr>\n",
       "      <th>3</th>\n",
       "      <td>4</td>\n",
       "      <td>viplav</td>\n",
       "    </tr>\n",
       "  </tbody>\n",
       "</table>\n",
       "</div>"
      ],
      "text/plain": [
       "   0        1\n",
       "0  1     amit\n",
       "1  2   piyush\n",
       "2  3  shubham\n",
       "3  4   viplav"
      ]
     },
     "execution_count": 7,
     "metadata": {},
     "output_type": "execute_result"
    }
   ],
   "source": [
    "# creating dataFrame from list \n",
    "a=[[1,\"amit\"],[2,\"piyush\"],[3,\"shubham\"],[4,\"viplav\"]]\n",
    "df2=pd.DataFrame(a)\n",
    "df2\n",
    "\n",
    "## default column names are 0 ,1 "
   ]
  },
  {
   "cell_type": "code",
   "execution_count": 17,
   "id": "41c6337d",
   "metadata": {},
   "outputs": [
    {
     "data": {
      "text/html": [
       "<div>\n",
       "<style scoped>\n",
       "    .dataframe tbody tr th:only-of-type {\n",
       "        vertical-align: middle;\n",
       "    }\n",
       "\n",
       "    .dataframe tbody tr th {\n",
       "        vertical-align: top;\n",
       "    }\n",
       "\n",
       "    .dataframe thead th {\n",
       "        text-align: right;\n",
       "    }\n",
       "</style>\n",
       "<table border=\"1\" class=\"dataframe\">\n",
       "  <thead>\n",
       "    <tr style=\"text-align: right;\">\n",
       "      <th></th>\n",
       "      <th>no</th>\n",
       "      <th>name</th>\n",
       "    </tr>\n",
       "  </thead>\n",
       "  <tbody>\n",
       "    <tr>\n",
       "      <th>i</th>\n",
       "      <td>1</td>\n",
       "      <td>amit</td>\n",
       "    </tr>\n",
       "    <tr>\n",
       "      <th>ii</th>\n",
       "      <td>2</td>\n",
       "      <td>piyush</td>\n",
       "    </tr>\n",
       "    <tr>\n",
       "      <th>iii</th>\n",
       "      <td>3</td>\n",
       "      <td>shubham</td>\n",
       "    </tr>\n",
       "    <tr>\n",
       "      <th>iV</th>\n",
       "      <td>4</td>\n",
       "      <td>viplav</td>\n",
       "    </tr>\n",
       "  </tbody>\n",
       "</table>\n",
       "</div>"
      ],
      "text/plain": [
       "     no     name\n",
       "i     1     amit\n",
       "ii    2   piyush\n",
       "iii   3  shubham\n",
       "iV    4   viplav"
      ]
     },
     "execution_count": 17,
     "metadata": {},
     "output_type": "execute_result"
    }
   ],
   "source": [
    "## adding index and columns to dataFrame \n",
    "df3=pd.DataFrame(a,index=[\"i\",\"ii\",\"iii\",\"iV\"],columns=[\"no\",\"name\"])\n",
    "df3"
   ]
  },
  {
   "cell_type": "code",
   "execution_count": 20,
   "id": "63dd90e3",
   "metadata": {},
   "outputs": [
    {
     "data": {
      "text/html": [
       "<div>\n",
       "<style scoped>\n",
       "    .dataframe tbody tr th:only-of-type {\n",
       "        vertical-align: middle;\n",
       "    }\n",
       "\n",
       "    .dataframe tbody tr th {\n",
       "        vertical-align: top;\n",
       "    }\n",
       "\n",
       "    .dataframe thead th {\n",
       "        text-align: right;\n",
       "    }\n",
       "</style>\n",
       "<table border=\"1\" class=\"dataframe\">\n",
       "  <thead>\n",
       "    <tr style=\"text-align: right;\">\n",
       "      <th></th>\n",
       "      <th>number</th>\n",
       "      <th>salary</th>\n",
       "    </tr>\n",
       "  </thead>\n",
       "  <tbody>\n",
       "    <tr>\n",
       "      <th>0</th>\n",
       "      <td>1</td>\n",
       "      <td>10</td>\n",
       "    </tr>\n",
       "    <tr>\n",
       "      <th>1</th>\n",
       "      <td>2</td>\n",
       "      <td>20</td>\n",
       "    </tr>\n",
       "    <tr>\n",
       "      <th>2</th>\n",
       "      <td>3</td>\n",
       "      <td>30</td>\n",
       "    </tr>\n",
       "    <tr>\n",
       "      <th>3</th>\n",
       "      <td>4</td>\n",
       "      <td>50</td>\n",
       "    </tr>\n",
       "    <tr>\n",
       "      <th>4</th>\n",
       "      <td>5</td>\n",
       "      <td>60</td>\n",
       "    </tr>\n",
       "  </tbody>\n",
       "</table>\n",
       "</div>"
      ],
      "text/plain": [
       "   number  salary\n",
       "0       1      10\n",
       "1       2      20\n",
       "2       3      30\n",
       "3       4      50\n",
       "4       5      60"
      ]
     },
     "execution_count": 20,
     "metadata": {},
     "output_type": "execute_result"
    }
   ],
   "source": [
    "# creating dataFrame from dictionary \n",
    "dct2={\"number\":[1,2,3,4,5],\"salary\":[10,20,30,50,60]}\n",
    "df=pd.DataFrame(dct2)\n",
    "df"
   ]
  },
  {
   "cell_type": "code",
   "execution_count": 29,
   "id": "e815c61c",
   "metadata": {},
   "outputs": [
    {
     "data": {
      "text/html": [
       "<div>\n",
       "<style scoped>\n",
       "    .dataframe tbody tr th:only-of-type {\n",
       "        vertical-align: middle;\n",
       "    }\n",
       "\n",
       "    .dataframe tbody tr th {\n",
       "        vertical-align: top;\n",
       "    }\n",
       "\n",
       "    .dataframe thead th {\n",
       "        text-align: right;\n",
       "    }\n",
       "</style>\n",
       "<table border=\"1\" class=\"dataframe\">\n",
       "  <thead>\n",
       "    <tr style=\"text-align: right;\">\n",
       "      <th></th>\n",
       "      <th>rollNo</th>\n",
       "      <th>Total</th>\n",
       "      <th>percentage</th>\n",
       "    </tr>\n",
       "  </thead>\n",
       "  <tbody>\n",
       "    <tr>\n",
       "      <th>1</th>\n",
       "      <td>1</td>\n",
       "      <td>350.0</td>\n",
       "      <td>70</td>\n",
       "    </tr>\n",
       "    <tr>\n",
       "      <th>2</th>\n",
       "      <td>2</td>\n",
       "      <td>400.0</td>\n",
       "      <td>50</td>\n",
       "    </tr>\n",
       "    <tr>\n",
       "      <th>3</th>\n",
       "      <td>3</td>\n",
       "      <td>NaN</td>\n",
       "      <td>60</td>\n",
       "    </tr>\n",
       "    <tr>\n",
       "      <th>4</th>\n",
       "      <td>4</td>\n",
       "      <td>420.0</td>\n",
       "      <td>50</td>\n",
       "    </tr>\n",
       "  </tbody>\n",
       "</table>\n",
       "</div>"
      ],
      "text/plain": [
       "   rollNo  Total  percentage\n",
       "1       1  350.0          70\n",
       "2       2  400.0          50\n",
       "3       3    NaN          60\n",
       "4       4  420.0          50"
      ]
     },
     "execution_count": 29,
     "metadata": {},
     "output_type": "execute_result"
    }
   ],
   "source": [
    "# creating dataFrame from columns \n",
    "d2={\"rollNo\":pd.Series([1,2,3,4],index=[1,2,3,4]),\"Total\":pd.Series([350.0,400,420],index=[1,2,4]),\\\n",
    "                \"percentage\":pd.Series([70,50,60,50],index=[1,2,3,4])}\n",
    "df=pd.DataFrame(d2)\n",
    "df\n",
    "\n",
    "# here we added total in specific index "
   ]
  },
  {
   "cell_type": "code",
   "execution_count": 52,
   "id": "3657214f",
   "metadata": {},
   "outputs": [],
   "source": [
    "# creating dataframe from another dataframe \n",
    "df2=pd.DataFrame(df,columns=[\"rollNo\",\"percentage\"])\n",
    "df2\n",
    "df=df2\n",
    "## here we took only columns that are required "
   ]
  },
  {
   "cell_type": "code",
   "execution_count": 34,
   "id": "6745e08b",
   "metadata": {},
   "outputs": [
    {
     "name": "stdout",
     "output_type": "stream",
     "text": [
      "8\n"
     ]
    }
   ],
   "source": [
    "## dataFrame attributes\n",
    "print(df2.size)\n"
   ]
  },
  {
   "cell_type": "code",
   "execution_count": 35,
   "id": "360bf1d0",
   "metadata": {},
   "outputs": [
    {
     "name": "stdout",
     "output_type": "stream",
     "text": [
      "[Int64Index([1, 2, 3, 4], dtype='int64'), Index(['rollNo', 'Total', 'percentage'], dtype='object')]\n"
     ]
    }
   ],
   "source": [
    "print(df2.axes)\n",
    "# represent a list representaion of axes of DataFrame "
   ]
  },
  {
   "cell_type": "code",
   "execution_count": 36,
   "id": "8bc4ed0d",
   "metadata": {},
   "outputs": [
    {
     "name": "stdout",
     "output_type": "stream",
     "text": [
      "2\n"
     ]
    }
   ],
   "source": [
    "print(df2.ndim)\n",
    "# print the int representation of number of axes / array dimensions "
   ]
  },
  {
   "cell_type": "code",
   "execution_count": 39,
   "id": "c2700929",
   "metadata": {},
   "outputs": [
    {
     "name": "stdout",
     "output_type": "stream",
     "text": [
      "Index(['rollNo', 'percentage'], dtype='object')\n"
     ]
    }
   ],
   "source": [
    "print(df2.columns)\n",
    "# give column names"
   ]
  },
  {
   "cell_type": "code",
   "execution_count": 40,
   "id": "88f2bb5a",
   "metadata": {},
   "outputs": [
    {
     "name": "stdout",
     "output_type": "stream",
     "text": [
      "[[ 1 70]\n",
      " [ 2 50]\n",
      " [ 3 60]\n",
      " [ 4 50]]\n"
     ]
    }
   ],
   "source": [
    "print(df2.values)\n",
    "# gives numpy representaion of dataframe"
   ]
  },
  {
   "cell_type": "code",
   "execution_count": 42,
   "id": "89ad4671",
   "metadata": {},
   "outputs": [
    {
     "data": {
      "text/plain": [
       "False"
      ]
     },
     "execution_count": 42,
     "metadata": {},
     "output_type": "execute_result"
    }
   ],
   "source": [
    "df2.empty\n",
    "# shows if dataFrame is empty "
   ]
  },
  {
   "cell_type": "code",
   "execution_count": 51,
   "id": "a8b991ec",
   "metadata": {},
   "outputs": [
    {
     "name": "stdout",
     "output_type": "stream",
     "text": [
      "1    1\n",
      "2    2\n",
      "3    3\n",
      "4    4\n",
      "Name: rollNo, dtype: int64\n",
      "1    1\n",
      "2    2\n",
      "3    3\n",
      "4    4\n",
      "Name: rollNo, dtype: int64\n"
     ]
    }
   ],
   "source": [
    "print(df2[\"rollNo\"])\n",
    "## for selecting column \n",
    "print(df2.rollNo)"
   ]
  },
  {
   "cell_type": "code",
   "execution_count": 59,
   "id": "cc483805",
   "metadata": {},
   "outputs": [
    {
     "name": "stdout",
     "output_type": "stream",
     "text": [
      "   rollNo  percentage  maths_rollNo\n",
      "1       1          70             1\n",
      "2       2          50             2\n",
      "3       3          60             4\n",
      "4       4          50             5\n"
     ]
    },
    {
     "data": {
      "text/html": [
       "<div>\n",
       "<style scoped>\n",
       "    .dataframe tbody tr th:only-of-type {\n",
       "        vertical-align: middle;\n",
       "    }\n",
       "\n",
       "    .dataframe tbody tr th {\n",
       "        vertical-align: top;\n",
       "    }\n",
       "\n",
       "    .dataframe thead th {\n",
       "        text-align: right;\n",
       "    }\n",
       "</style>\n",
       "<table border=\"1\" class=\"dataframe\">\n",
       "  <thead>\n",
       "    <tr style=\"text-align: right;\">\n",
       "      <th></th>\n",
       "      <th>rollNo</th>\n",
       "      <th>percentage</th>\n",
       "      <th>maths_rollNo</th>\n",
       "    </tr>\n",
       "  </thead>\n",
       "  <tbody>\n",
       "    <tr>\n",
       "      <th>1</th>\n",
       "      <td>1</td>\n",
       "      <td>70</td>\n",
       "      <td>1</td>\n",
       "    </tr>\n",
       "    <tr>\n",
       "      <th>2</th>\n",
       "      <td>2</td>\n",
       "      <td>50</td>\n",
       "      <td>2</td>\n",
       "    </tr>\n",
       "    <tr>\n",
       "      <th>3</th>\n",
       "      <td>3</td>\n",
       "      <td>60</td>\n",
       "      <td>4</td>\n",
       "    </tr>\n",
       "    <tr>\n",
       "      <th>4</th>\n",
       "      <td>4</td>\n",
       "      <td>50</td>\n",
       "      <td>5</td>\n",
       "    </tr>\n",
       "  </tbody>\n",
       "</table>\n",
       "</div>"
      ],
      "text/plain": [
       "   rollNo  percentage  maths_rollNo\n",
       "1       1          70             1\n",
       "2       2          50             2\n",
       "3       3          60             4\n",
       "4       4          50             5"
      ]
     },
     "execution_count": 59,
     "metadata": {},
     "output_type": "execute_result"
    }
   ],
   "source": [
    "## adding column in  in dataFrame \n",
    "print(df2)\n",
    "df2[\"maths_rollNo\"]=[1,2,4,5]\n",
    "df2\n",
    "\n"
   ]
  },
  {
   "cell_type": "code",
   "execution_count": 60,
   "id": "d605a6fe",
   "metadata": {},
   "outputs": [
    {
     "data": {
      "text/html": [
       "<div>\n",
       "<style scoped>\n",
       "    .dataframe tbody tr th:only-of-type {\n",
       "        vertical-align: middle;\n",
       "    }\n",
       "\n",
       "    .dataframe tbody tr th {\n",
       "        vertical-align: top;\n",
       "    }\n",
       "\n",
       "    .dataframe thead th {\n",
       "        text-align: right;\n",
       "    }\n",
       "</style>\n",
       "<table border=\"1\" class=\"dataframe\">\n",
       "  <thead>\n",
       "    <tr style=\"text-align: right;\">\n",
       "      <th></th>\n",
       "      <th>rollNo</th>\n",
       "      <th>percentage</th>\n",
       "      <th>maths_rollNo</th>\n",
       "    </tr>\n",
       "  </thead>\n",
       "  <tbody>\n",
       "    <tr>\n",
       "      <th>1</th>\n",
       "      <td>1</td>\n",
       "      <td>71</td>\n",
       "      <td>1</td>\n",
       "    </tr>\n",
       "    <tr>\n",
       "      <th>2</th>\n",
       "      <td>2</td>\n",
       "      <td>81</td>\n",
       "      <td>2</td>\n",
       "    </tr>\n",
       "    <tr>\n",
       "      <th>3</th>\n",
       "      <td>3</td>\n",
       "      <td>61</td>\n",
       "      <td>4</td>\n",
       "    </tr>\n",
       "    <tr>\n",
       "      <th>4</th>\n",
       "      <td>4</td>\n",
       "      <td>51</td>\n",
       "      <td>5</td>\n",
       "    </tr>\n",
       "  </tbody>\n",
       "</table>\n",
       "</div>"
      ],
      "text/plain": [
       "   rollNo  percentage  maths_rollNo\n",
       "1       1          71             1\n",
       "2       2          81             2\n",
       "3       3          61             4\n",
       "4       4          51             5"
      ]
     },
     "execution_count": 60,
     "metadata": {},
     "output_type": "execute_result"
    }
   ],
   "source": [
    "## replacing valus of column in dataFrame  if its at smae index\n",
    "df2[\"percentage\"]=[71,81,61,51]\n",
    "df2"
   ]
  },
  {
   "cell_type": "code",
   "execution_count": 70,
   "id": "937d3f2c",
   "metadata": {},
   "outputs": [
    {
     "data": {
      "text/html": [
       "<div>\n",
       "<style scoped>\n",
       "    .dataframe tbody tr th:only-of-type {\n",
       "        vertical-align: middle;\n",
       "    }\n",
       "\n",
       "    .dataframe tbody tr th {\n",
       "        vertical-align: top;\n",
       "    }\n",
       "\n",
       "    .dataframe thead th {\n",
       "        text-align: right;\n",
       "    }\n",
       "</style>\n",
       "<table border=\"1\" class=\"dataframe\">\n",
       "  <thead>\n",
       "    <tr style=\"text-align: right;\">\n",
       "      <th></th>\n",
       "      <th>rollNo</th>\n",
       "      <th>percentage</th>\n",
       "      <th>maths_rollNo</th>\n",
       "    </tr>\n",
       "  </thead>\n",
       "  <tbody>\n",
       "    <tr>\n",
       "      <th>1</th>\n",
       "      <td>1</td>\n",
       "      <td>71</td>\n",
       "      <td>1</td>\n",
       "    </tr>\n",
       "    <tr>\n",
       "      <th>2</th>\n",
       "      <td>2</td>\n",
       "      <td>81</td>\n",
       "      <td>2</td>\n",
       "    </tr>\n",
       "    <tr>\n",
       "      <th>3</th>\n",
       "      <td>3</td>\n",
       "      <td>61</td>\n",
       "      <td>4</td>\n",
       "    </tr>\n",
       "    <tr>\n",
       "      <th>4</th>\n",
       "      <td>2</td>\n",
       "      <td>89</td>\n",
       "      <td>93</td>\n",
       "    </tr>\n",
       "  </tbody>\n",
       "</table>\n",
       "</div>"
      ],
      "text/plain": [
       "   rollNo  percentage  maths_rollNo\n",
       "1       1          71             1\n",
       "2       2          81             2\n",
       "3       3          61             4\n",
       "4       2          89            93"
      ]
     },
     "execution_count": 70,
     "metadata": {},
     "output_type": "execute_result"
    }
   ],
   "source": [
    "## ading  single rows in data frame\n",
    "df2.loc[len(df.index)] = [2, 89, 93]\n",
    "df2\n",
    "\n",
    "## it added row by using length of index"
   ]
  },
  {
   "cell_type": "code",
   "execution_count": 81,
   "id": "ae7b1de6",
   "metadata": {},
   "outputs": [
    {
     "data": {
      "text/html": [
       "<div>\n",
       "<style scoped>\n",
       "    .dataframe tbody tr th:only-of-type {\n",
       "        vertical-align: middle;\n",
       "    }\n",
       "\n",
       "    .dataframe tbody tr th {\n",
       "        vertical-align: top;\n",
       "    }\n",
       "\n",
       "    .dataframe thead th {\n",
       "        text-align: right;\n",
       "    }\n",
       "</style>\n",
       "<table border=\"1\" class=\"dataframe\">\n",
       "  <thead>\n",
       "    <tr style=\"text-align: right;\">\n",
       "      <th></th>\n",
       "      <th>rollNo</th>\n",
       "      <th>percentage</th>\n",
       "      <th>maths_rollNo</th>\n",
       "      <th>newColumn</th>\n",
       "    </tr>\n",
       "  </thead>\n",
       "  <tbody>\n",
       "    <tr>\n",
       "      <th>1</th>\n",
       "      <td>1</td>\n",
       "      <td>71</td>\n",
       "      <td>1</td>\n",
       "      <td>a</td>\n",
       "    </tr>\n",
       "    <tr>\n",
       "      <th>2</th>\n",
       "      <td>2</td>\n",
       "      <td>81</td>\n",
       "      <td>2</td>\n",
       "      <td>b</td>\n",
       "    </tr>\n",
       "    <tr>\n",
       "      <th>3</th>\n",
       "      <td>3</td>\n",
       "      <td>61</td>\n",
       "      <td>4</td>\n",
       "      <td>c</td>\n",
       "    </tr>\n",
       "    <tr>\n",
       "      <th>4</th>\n",
       "      <td>2</td>\n",
       "      <td>89</td>\n",
       "      <td>93</td>\n",
       "      <td>d</td>\n",
       "    </tr>\n",
       "  </tbody>\n",
       "</table>\n",
       "</div>"
      ],
      "text/plain": [
       "   rollNo  percentage  maths_rollNo newColumn\n",
       "1       1          71             1         a\n",
       "2       2          81             2         b\n",
       "3       3          61             4         c\n",
       "4       2          89            93         d"
      ]
     },
     "execution_count": 81,
     "metadata": {},
     "output_type": "execute_result"
    }
   ],
   "source": [
    "## addinf new column in dataFrame \n",
    "df2.loc[:,\"newColumn\"]=['a','b','c','d']\n",
    "df2\n",
    "\n",
    "# if index dont match we get index error "
   ]
  },
  {
   "cell_type": "code",
   "execution_count": 78,
   "id": "95449d5f",
   "metadata": {},
   "outputs": [
    {
     "data": {
      "text/plain": [
       "(4, 3)"
      ]
     },
     "execution_count": 78,
     "metadata": {},
     "output_type": "execute_result"
    }
   ],
   "source": [
    "# ## adding row with row index or row name \n",
    "# df2.loc[5:7]=[12,14,18]\n",
    "# df2\n",
    "# df2.shape"
   ]
  },
  {
   "cell_type": "code",
   "execution_count": 67,
   "id": "c58b6af6",
   "metadata": {},
   "outputs": [
    {
     "data": {
      "text/html": [
       "<div>\n",
       "<style scoped>\n",
       "    .dataframe tbody tr th:only-of-type {\n",
       "        vertical-align: middle;\n",
       "    }\n",
       "\n",
       "    .dataframe tbody tr th {\n",
       "        vertical-align: top;\n",
       "    }\n",
       "\n",
       "    .dataframe thead th {\n",
       "        text-align: right;\n",
       "    }\n",
       "</style>\n",
       "<table border=\"1\" class=\"dataframe\">\n",
       "  <thead>\n",
       "    <tr style=\"text-align: right;\">\n",
       "      <th></th>\n",
       "      <th>rollNo</th>\n",
       "      <th>percentage</th>\n",
       "      <th>maths_rollNo</th>\n",
       "    </tr>\n",
       "  </thead>\n",
       "  <tbody>\n",
       "    <tr>\n",
       "      <th>1</th>\n",
       "      <td>1</td>\n",
       "      <td>71</td>\n",
       "      <td>1</td>\n",
       "    </tr>\n",
       "    <tr>\n",
       "      <th>2</th>\n",
       "      <td>2</td>\n",
       "      <td>81</td>\n",
       "      <td>2</td>\n",
       "    </tr>\n",
       "  </tbody>\n",
       "</table>\n",
       "</div>"
      ],
      "text/plain": [
       "   rollNo  percentage  maths_rollNo\n",
       "1       1          71             1\n",
       "2       2          81             2"
      ]
     },
     "execution_count": 67,
     "metadata": {},
     "output_type": "execute_result"
    }
   ],
   "source": [
    "## accessing df columns via loc  ie show row 1 and 2 \n",
    "df2.loc[1:2]\n"
   ]
  },
  {
   "cell_type": "code",
   "execution_count": 79,
   "id": "5ac0f0ea",
   "metadata": {},
   "outputs": [
    {
     "data": {
      "text/html": [
       "<div>\n",
       "<style scoped>\n",
       "    .dataframe tbody tr th:only-of-type {\n",
       "        vertical-align: middle;\n",
       "    }\n",
       "\n",
       "    .dataframe tbody tr th {\n",
       "        vertical-align: top;\n",
       "    }\n",
       "\n",
       "    .dataframe thead th {\n",
       "        text-align: right;\n",
       "    }\n",
       "</style>\n",
       "<table border=\"1\" class=\"dataframe\">\n",
       "  <thead>\n",
       "    <tr style=\"text-align: right;\">\n",
       "      <th></th>\n",
       "      <th>rollNo</th>\n",
       "      <th>percentage</th>\n",
       "      <th>maths_rollNo</th>\n",
       "    </tr>\n",
       "  </thead>\n",
       "  <tbody>\n",
       "    <tr>\n",
       "      <th>2</th>\n",
       "      <td>2</td>\n",
       "      <td>81</td>\n",
       "      <td>2</td>\n",
       "    </tr>\n",
       "  </tbody>\n",
       "</table>\n",
       "</div>"
      ],
      "text/plain": [
       "   rollNo  percentage  maths_rollNo\n",
       "2       2          81             2"
      ]
     },
     "execution_count": 79,
     "metadata": {},
     "output_type": "execute_result"
    }
   ],
   "source": [
    "# with iloc\n",
    "df2.iloc[1:2]\n",
    "# with iloc start: stop : step here stop is not included "
   ]
  },
  {
   "cell_type": "code",
   "execution_count": null,
   "id": "c3330610",
   "metadata": {},
   "outputs": [],
   "source": [
    "# note either of this works \n",
    "# df.loc[rowname,:] =[] === to add  new row \n",
    "#  df.loc[:,columns]=[] == to add column "
   ]
  },
  {
   "cell_type": "code",
   "execution_count": 83,
   "id": "e6ebdc1f",
   "metadata": {},
   "outputs": [
    {
     "data": {
      "text/html": [
       "<div>\n",
       "<style scoped>\n",
       "    .dataframe tbody tr th:only-of-type {\n",
       "        vertical-align: middle;\n",
       "    }\n",
       "\n",
       "    .dataframe tbody tr th {\n",
       "        vertical-align: top;\n",
       "    }\n",
       "\n",
       "    .dataframe thead th {\n",
       "        text-align: right;\n",
       "    }\n",
       "</style>\n",
       "<table border=\"1\" class=\"dataframe\">\n",
       "  <thead>\n",
       "    <tr style=\"text-align: right;\">\n",
       "      <th></th>\n",
       "      <th>rollNo</th>\n",
       "      <th>percentage</th>\n",
       "      <th>maths_rollNo</th>\n",
       "    </tr>\n",
       "  </thead>\n",
       "  <tbody>\n",
       "    <tr>\n",
       "      <th>1</th>\n",
       "      <td>1</td>\n",
       "      <td>71</td>\n",
       "      <td>1</td>\n",
       "    </tr>\n",
       "    <tr>\n",
       "      <th>2</th>\n",
       "      <td>2</td>\n",
       "      <td>81</td>\n",
       "      <td>2</td>\n",
       "    </tr>\n",
       "    <tr>\n",
       "      <th>3</th>\n",
       "      <td>3</td>\n",
       "      <td>61</td>\n",
       "      <td>4</td>\n",
       "    </tr>\n",
       "    <tr>\n",
       "      <th>4</th>\n",
       "      <td>2</td>\n",
       "      <td>89</td>\n",
       "      <td>93</td>\n",
       "    </tr>\n",
       "  </tbody>\n",
       "</table>\n",
       "</div>"
      ],
      "text/plain": [
       "   rollNo  percentage  maths_rollNo\n",
       "1       1          71             1\n",
       "2       2          81             2\n",
       "3       3          61             4\n",
       "4       2          89            93"
      ]
     },
     "execution_count": 83,
     "metadata": {},
     "output_type": "execute_result"
    }
   ],
   "source": [
    "## droping the column or orw \n",
    "df2\n",
    "df2.drop(\"newColumn\",axis=1)\n"
   ]
  },
  {
   "cell_type": "code",
   "execution_count": 85,
   "id": "b4e857a2",
   "metadata": {},
   "outputs": [
    {
     "data": {
      "text/html": [
       "<div>\n",
       "<style scoped>\n",
       "    .dataframe tbody tr th:only-of-type {\n",
       "        vertical-align: middle;\n",
       "    }\n",
       "\n",
       "    .dataframe tbody tr th {\n",
       "        vertical-align: top;\n",
       "    }\n",
       "\n",
       "    .dataframe thead th {\n",
       "        text-align: right;\n",
       "    }\n",
       "</style>\n",
       "<table border=\"1\" class=\"dataframe\">\n",
       "  <thead>\n",
       "    <tr style=\"text-align: right;\">\n",
       "      <th></th>\n",
       "      <th>rollNo</th>\n",
       "      <th>percentage</th>\n",
       "      <th>maths_rollNo</th>\n",
       "      <th>newColumn</th>\n",
       "    </tr>\n",
       "  </thead>\n",
       "  <tbody>\n",
       "    <tr>\n",
       "      <th>1</th>\n",
       "      <td>1</td>\n",
       "      <td>71</td>\n",
       "      <td>1</td>\n",
       "      <td>a</td>\n",
       "    </tr>\n",
       "    <tr>\n",
       "      <th>2</th>\n",
       "      <td>2</td>\n",
       "      <td>81</td>\n",
       "      <td>2</td>\n",
       "      <td>b</td>\n",
       "    </tr>\n",
       "    <tr>\n",
       "      <th>3</th>\n",
       "      <td>3</td>\n",
       "      <td>61</td>\n",
       "      <td>4</td>\n",
       "      <td>c</td>\n",
       "    </tr>\n",
       "    <tr>\n",
       "      <th>4</th>\n",
       "      <td>2</td>\n",
       "      <td>89</td>\n",
       "      <td>93</td>\n",
       "      <td>d</td>\n",
       "    </tr>\n",
       "  </tbody>\n",
       "</table>\n",
       "</div>"
      ],
      "text/plain": [
       "   rollNo  percentage  maths_rollNo newColumn\n",
       "1       1          71             1         a\n",
       "2       2          81             2         b\n",
       "3       3          61             4         c\n",
       "4       2          89            93         d"
      ]
     },
     "execution_count": 85,
     "metadata": {},
     "output_type": "execute_result"
    }
   ],
   "source": [
    "# again adding this \n",
    "df2.loc[:,\"newColumn\"]=['a','b','c','d']\n",
    "df2"
   ]
  },
  {
   "cell_type": "code",
   "execution_count": 86,
   "id": "c0138e41",
   "metadata": {},
   "outputs": [
    {
     "data": {
      "text/html": [
       "<div>\n",
       "<style scoped>\n",
       "    .dataframe tbody tr th:only-of-type {\n",
       "        vertical-align: middle;\n",
       "    }\n",
       "\n",
       "    .dataframe tbody tr th {\n",
       "        vertical-align: top;\n",
       "    }\n",
       "\n",
       "    .dataframe thead th {\n",
       "        text-align: right;\n",
       "    }\n",
       "</style>\n",
       "<table border=\"1\" class=\"dataframe\">\n",
       "  <thead>\n",
       "    <tr style=\"text-align: right;\">\n",
       "      <th></th>\n",
       "      <th>rollNo</th>\n",
       "      <th>percentage</th>\n",
       "      <th>maths_rollNo</th>\n",
       "      <th>newColumn</th>\n",
       "    </tr>\n",
       "  </thead>\n",
       "  <tbody>\n",
       "    <tr>\n",
       "      <th>1</th>\n",
       "      <td>1</td>\n",
       "      <td>71</td>\n",
       "      <td>1</td>\n",
       "      <td>a</td>\n",
       "    </tr>\n",
       "    <tr>\n",
       "      <th>2</th>\n",
       "      <td>2</td>\n",
       "      <td>81</td>\n",
       "      <td>2</td>\n",
       "      <td>b</td>\n",
       "    </tr>\n",
       "    <tr>\n",
       "      <th>3</th>\n",
       "      <td>3</td>\n",
       "      <td>61</td>\n",
       "      <td>4</td>\n",
       "      <td>c</td>\n",
       "    </tr>\n",
       "  </tbody>\n",
       "</table>\n",
       "</div>"
      ],
      "text/plain": [
       "   rollNo  percentage  maths_rollNo newColumn\n",
       "1       1          71             1         a\n",
       "2       2          81             2         b\n",
       "3       3          61             4         c"
      ]
     },
     "execution_count": 86,
     "metadata": {},
     "output_type": "execute_result"
    }
   ],
   "source": [
    "# drop the rows \n",
    "df2.drop(4)\n",
    "## this has droped row with row no 4 "
   ]
  },
  {
   "cell_type": "code",
   "execution_count": null,
   "id": "45987427",
   "metadata": {},
   "outputs": [],
   "source": [
    "## renaming the dataframe columns \n",
    "# df.rename(index={names dictionary},columns={names dictionary},inplace=True)\n",
    "# or \n",
    "#  df.rename({name dictionary},axes=index/column)\n"
   ]
  },
  {
   "cell_type": "code",
   "execution_count": 88,
   "id": "e919a579",
   "metadata": {},
   "outputs": [
    {
     "data": {
      "text/html": [
       "<div>\n",
       "<style scoped>\n",
       "    .dataframe tbody tr th:only-of-type {\n",
       "        vertical-align: middle;\n",
       "    }\n",
       "\n",
       "    .dataframe tbody tr th {\n",
       "        vertical-align: top;\n",
       "    }\n",
       "\n",
       "    .dataframe thead th {\n",
       "        text-align: right;\n",
       "    }\n",
       "</style>\n",
       "<table border=\"1\" class=\"dataframe\">\n",
       "  <thead>\n",
       "    <tr style=\"text-align: right;\">\n",
       "      <th></th>\n",
       "      <th>RollNumber</th>\n",
       "      <th>percentage</th>\n",
       "      <th>maths_rollNo</th>\n",
       "      <th>newColumn</th>\n",
       "    </tr>\n",
       "  </thead>\n",
       "  <tbody>\n",
       "    <tr>\n",
       "      <th>1</th>\n",
       "      <td>1</td>\n",
       "      <td>71</td>\n",
       "      <td>1</td>\n",
       "      <td>a</td>\n",
       "    </tr>\n",
       "    <tr>\n",
       "      <th>2</th>\n",
       "      <td>2</td>\n",
       "      <td>81</td>\n",
       "      <td>2</td>\n",
       "      <td>b</td>\n",
       "    </tr>\n",
       "    <tr>\n",
       "      <th>3</th>\n",
       "      <td>3</td>\n",
       "      <td>61</td>\n",
       "      <td>4</td>\n",
       "      <td>c</td>\n",
       "    </tr>\n",
       "    <tr>\n",
       "      <th>4</th>\n",
       "      <td>2</td>\n",
       "      <td>89</td>\n",
       "      <td>93</td>\n",
       "      <td>d</td>\n",
       "    </tr>\n",
       "  </tbody>\n",
       "</table>\n",
       "</div>"
      ],
      "text/plain": [
       "   RollNumber  percentage  maths_rollNo newColumn\n",
       "1           1          71             1         a\n",
       "2           2          81             2         b\n",
       "3           3          61             4         c\n",
       "4           2          89            93         d"
      ]
     },
     "execution_count": 88,
     "metadata": {},
     "output_type": "execute_result"
    }
   ],
   "source": [
    "df2.rename({\"rollNo\":\"RollNumber\"},axis=1,inplace=True)\n",
    "df2\n",
    "\n",
    "# here inplace will make permanent change to datFrame "
   ]
  },
  {
   "cell_type": "code",
   "execution_count": null,
   "id": "72741363",
   "metadata": {},
   "outputs": [],
   "source": [
    "#  note acessing the dataFrame\n",
    "#  dataFrameName.loc[startRow:endRow,startCOlumn:EndColumn]\n",
    "#  dataFrameName.iloc[startRowIndex:endRowIndex,startColumnIndex:EndColumnIndex]\n"
   ]
  },
  {
   "cell_type": "markdown",
   "id": "fa618cbd",
   "metadata": {},
   "source": [
    "## here basic dataFrame is complete from now on "
   ]
  }
 ],
 "metadata": {
  "kernelspec": {
   "display_name": "Python 3 (ipykernel)",
   "language": "python",
   "name": "python3"
  },
  "language_info": {
   "codemirror_mode": {
    "name": "ipython",
    "version": 3
   },
   "file_extension": ".py",
   "mimetype": "text/x-python",
   "name": "python",
   "nbconvert_exporter": "python",
   "pygments_lexer": "ipython3",
   "version": "3.9.7"
  }
 },
 "nbformat": 4,
 "nbformat_minor": 5
}
